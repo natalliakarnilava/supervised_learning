{
 "cells": [
  {
   "cell_type": "markdown",
   "metadata": {
    "toc": true
   },
   "source": [
    "# <h1>Содержание<span class=\"tocSkip\"></span></h1>\n",
    "<div class=\"toc\"><ul class=\"toc-item\"><li><ul class=\"toc-item\"><li><span><a href=\"#Подготовка-данных\" data-toc-modified-id=\"Подготовка-данных-1\"><span class=\"toc-item-num\">1&nbsp;&nbsp;</span>Подготовка данных</a></span><ul class=\"toc-item\"><li><span><a href=\"#Вывод\" data-toc-modified-id=\"Вывод-1.1\"><span class=\"toc-item-num\">1.1&nbsp;&nbsp;</span>Вывод</a></span></li></ul></li><li><span><a href=\"#Исследование-задачи\" data-toc-modified-id=\"Исследование-задачи-2\"><span class=\"toc-item-num\">2&nbsp;&nbsp;</span>Исследование задачи</a></span><ul class=\"toc-item\"><li><span><a href=\"#Вывод\" data-toc-modified-id=\"Вывод-2.1\"><span class=\"toc-item-num\">2.1&nbsp;&nbsp;</span>Вывод</a></span></li></ul></li><li><span><a href=\"#Борьба-с-дисбалансом\" data-toc-modified-id=\"Борьба-с-дисбалансом-3\"><span class=\"toc-item-num\">3&nbsp;&nbsp;</span>Борьба с дисбалансом</a></span><ul class=\"toc-item\"><li><span><a href=\"#Вывод\" data-toc-modified-id=\"Вывод-3.1\"><span class=\"toc-item-num\">3.1&nbsp;&nbsp;</span>Вывод</a></span></li></ul></li><li><span><a href=\"#Тестирование-модели\" data-toc-modified-id=\"Тестирование-модели-4\"><span class=\"toc-item-num\">4&nbsp;&nbsp;</span>Тестирование модели</a></span><ul class=\"toc-item\"><li><span><a href=\"#Вывод\" data-toc-modified-id=\"Вывод-4.1\"><span class=\"toc-item-num\">4.1&nbsp;&nbsp;</span>Вывод</a></span></li></ul></li><li><span><a href=\"#Чек-лист-готовности-проекта\" data-toc-modified-id=\"Чек-лист-готовности-проекта-5\"><span class=\"toc-item-num\">5&nbsp;&nbsp;</span>Чек-лист готовности проекта</a></span></li></ul></div>"
   ]
  },
  {
   "cell_type": "markdown",
   "metadata": {},
   "source": [
    "# Отток клиентов"
   ]
  },
  {
   "cell_type": "markdown",
   "metadata": {},
   "source": [
    "Из «Бета-Банка» стали уходить клиенты. Каждый месяц. Немного, но заметно. Банковские маркетологи посчитали: сохранять текущих клиентов дешевле, чем привлекать новых.\n",
    "\n",
    "Нужно спрогнозировать, уйдёт клиент из банка в ближайшее время или нет. Вам предоставлены исторические данные о поведении клиентов и расторжении договоров с банком. \n",
    "\n",
    "Постройте модель с предельно большим значением *F1*-меры. Чтобы сдать проект успешно, нужно довести метрику до 0.59. Проверьте *F1*-меру на тестовой выборке самостоятельно.\n",
    "\n",
    "Дополнительно измеряйте *AUC-ROC*, сравнивайте её значение с *F1*-мерой.\n",
    "\n",
    "Источник данных: [https://www.kaggle.com/barelydedicated/bank-customer-churn-modeling](https://www.kaggle.com/barelydedicated/bank-customer-churn-modeling)"
   ]
  },
  {
   "cell_type": "markdown",
   "metadata": {},
   "source": [
    "## Подготовка данных"
   ]
  },
  {
   "cell_type": "markdown",
   "metadata": {},
   "source": [
    "Импоритруем необходимые библиотеки:\n",
    "<a id ='import'></a>"
   ]
  },
  {
   "cell_type": "code",
   "execution_count": 1,
   "metadata": {},
   "outputs": [],
   "source": [
    "import pandas as pd\n",
    "import math\n",
    "import numpy as np\n",
    "import matplotlib.pyplot as plt\n",
    "from sklearn.preprocessing import StandardScaler \n",
    "from sklearn.model_selection import train_test_split\n",
    "from sklearn.linear_model import LogisticRegression\n",
    "from sklearn.tree import DecisionTreeClassifier \n",
    "from sklearn.ensemble import RandomForestClassifier \n",
    "from sklearn.metrics import f1_score\n",
    "from sklearn.metrics import roc_auc_score, roc_curve\n",
    "from sklearn.utils import shuffle\n",
    "from sklearn.metrics import accuracy_score\n",
    "from sklearn.dummy import DummyClassifier\n",
    "\n",
    "\n",
    "\n",
    "\n"
   ]
  },
  {
   "cell_type": "markdown",
   "metadata": {},
   "source": [
    "Сохраним датасет в переменную `data` при помощи метода `read_csv` и выведем первые пять строк таблицы:"
   ]
  },
  {
   "cell_type": "code",
   "execution_count": 2,
   "metadata": {
    "scrolled": false
   },
   "outputs": [
    {
     "data": {
      "text/html": [
       "<div>\n",
       "<style scoped>\n",
       "    .dataframe tbody tr th:only-of-type {\n",
       "        vertical-align: middle;\n",
       "    }\n",
       "\n",
       "    .dataframe tbody tr th {\n",
       "        vertical-align: top;\n",
       "    }\n",
       "\n",
       "    .dataframe thead th {\n",
       "        text-align: right;\n",
       "    }\n",
       "</style>\n",
       "<table border=\"1\" class=\"dataframe\">\n",
       "  <thead>\n",
       "    <tr style=\"text-align: right;\">\n",
       "      <th></th>\n",
       "      <th>RowNumber</th>\n",
       "      <th>CustomerId</th>\n",
       "      <th>Surname</th>\n",
       "      <th>CreditScore</th>\n",
       "      <th>Geography</th>\n",
       "      <th>Gender</th>\n",
       "      <th>Age</th>\n",
       "      <th>Tenure</th>\n",
       "      <th>Balance</th>\n",
       "      <th>NumOfProducts</th>\n",
       "      <th>HasCrCard</th>\n",
       "      <th>IsActiveMember</th>\n",
       "      <th>EstimatedSalary</th>\n",
       "      <th>Exited</th>\n",
       "    </tr>\n",
       "  </thead>\n",
       "  <tbody>\n",
       "    <tr>\n",
       "      <td>0</td>\n",
       "      <td>1</td>\n",
       "      <td>15634602</td>\n",
       "      <td>Hargrave</td>\n",
       "      <td>619</td>\n",
       "      <td>France</td>\n",
       "      <td>Female</td>\n",
       "      <td>42</td>\n",
       "      <td>2.0</td>\n",
       "      <td>0.00</td>\n",
       "      <td>1</td>\n",
       "      <td>1</td>\n",
       "      <td>1</td>\n",
       "      <td>101348.88</td>\n",
       "      <td>1</td>\n",
       "    </tr>\n",
       "    <tr>\n",
       "      <td>1</td>\n",
       "      <td>2</td>\n",
       "      <td>15647311</td>\n",
       "      <td>Hill</td>\n",
       "      <td>608</td>\n",
       "      <td>Spain</td>\n",
       "      <td>Female</td>\n",
       "      <td>41</td>\n",
       "      <td>1.0</td>\n",
       "      <td>83807.86</td>\n",
       "      <td>1</td>\n",
       "      <td>0</td>\n",
       "      <td>1</td>\n",
       "      <td>112542.58</td>\n",
       "      <td>0</td>\n",
       "    </tr>\n",
       "    <tr>\n",
       "      <td>2</td>\n",
       "      <td>3</td>\n",
       "      <td>15619304</td>\n",
       "      <td>Onio</td>\n",
       "      <td>502</td>\n",
       "      <td>France</td>\n",
       "      <td>Female</td>\n",
       "      <td>42</td>\n",
       "      <td>8.0</td>\n",
       "      <td>159660.80</td>\n",
       "      <td>3</td>\n",
       "      <td>1</td>\n",
       "      <td>0</td>\n",
       "      <td>113931.57</td>\n",
       "      <td>1</td>\n",
       "    </tr>\n",
       "    <tr>\n",
       "      <td>3</td>\n",
       "      <td>4</td>\n",
       "      <td>15701354</td>\n",
       "      <td>Boni</td>\n",
       "      <td>699</td>\n",
       "      <td>France</td>\n",
       "      <td>Female</td>\n",
       "      <td>39</td>\n",
       "      <td>1.0</td>\n",
       "      <td>0.00</td>\n",
       "      <td>2</td>\n",
       "      <td>0</td>\n",
       "      <td>0</td>\n",
       "      <td>93826.63</td>\n",
       "      <td>0</td>\n",
       "    </tr>\n",
       "    <tr>\n",
       "      <td>4</td>\n",
       "      <td>5</td>\n",
       "      <td>15737888</td>\n",
       "      <td>Mitchell</td>\n",
       "      <td>850</td>\n",
       "      <td>Spain</td>\n",
       "      <td>Female</td>\n",
       "      <td>43</td>\n",
       "      <td>2.0</td>\n",
       "      <td>125510.82</td>\n",
       "      <td>1</td>\n",
       "      <td>1</td>\n",
       "      <td>1</td>\n",
       "      <td>79084.10</td>\n",
       "      <td>0</td>\n",
       "    </tr>\n",
       "  </tbody>\n",
       "</table>\n",
       "</div>"
      ],
      "text/plain": [
       "   RowNumber  CustomerId   Surname  CreditScore Geography  Gender  Age  \\\n",
       "0          1    15634602  Hargrave          619    France  Female   42   \n",
       "1          2    15647311      Hill          608     Spain  Female   41   \n",
       "2          3    15619304      Onio          502    France  Female   42   \n",
       "3          4    15701354      Boni          699    France  Female   39   \n",
       "4          5    15737888  Mitchell          850     Spain  Female   43   \n",
       "\n",
       "   Tenure    Balance  NumOfProducts  HasCrCard  IsActiveMember  \\\n",
       "0     2.0       0.00              1          1               1   \n",
       "1     1.0   83807.86              1          0               1   \n",
       "2     8.0  159660.80              3          1               0   \n",
       "3     1.0       0.00              2          0               0   \n",
       "4     2.0  125510.82              1          1               1   \n",
       "\n",
       "   EstimatedSalary  Exited  \n",
       "0        101348.88       1  \n",
       "1        112542.58       0  \n",
       "2        113931.57       1  \n",
       "3         93826.63       0  \n",
       "4         79084.10       0  "
      ]
     },
     "execution_count": 2,
     "metadata": {},
     "output_type": "execute_result"
    }
   ],
   "source": [
    "data = pd.read_csv('/datasets/Churn.csv')\n",
    "data.head()"
   ]
  },
  {
   "cell_type": "markdown",
   "metadata": {},
   "source": [
    "Таблица содержит следующие колонки:\n",
    "* `RowNumber` — индекс строки в данных. Количественный тип данных\n",
    "* `CustomerId` — уникальный идентификатор клиента. Количественный тип данных\n",
    "* `Surname` — фамилия. Качественный тип данных\n",
    "* `CreditScore` — кредитный рейтинг. Количественный тип данных \n",
    "* `Geography` — страна проживания. Качественный тип данных\n",
    "* `Gender` — пол. Качественный тип данных\n",
    "* `Age` — возраст. Количественный тип данных\n",
    "* `Tenure` — сколько лет человек является клиентом банка. Количественный тип данных\n",
    "* `Balance` — баланс на счёте. Количественный тип данных\n",
    "* `NumOfProducts` — количество продуктов банка, используемых клиентом. Количественный тип данных\n",
    "* `HasCrCard` — наличие кредитной карты. Количественный (дискретный) тип данных.\n",
    "* `IsActiveMember` — активность клиента. Количественный (дискретный) тип данных.\n",
    "* `EstimatedSalary` — предполагаемая зарплата. Количественный тип данных.\n",
    "* `Exited` — факт ухода клиента. Количественный (дискретный) тип данных."
   ]
  },
  {
   "cell_type": "markdown",
   "metadata": {},
   "source": [
    "Вызовем метод `info`, чтобы подробнее изучить данные:"
   ]
  },
  {
   "cell_type": "code",
   "execution_count": 3,
   "metadata": {},
   "outputs": [
    {
     "name": "stdout",
     "output_type": "stream",
     "text": [
      "<class 'pandas.core.frame.DataFrame'>\n",
      "RangeIndex: 10000 entries, 0 to 9999\n",
      "Data columns (total 14 columns):\n",
      "RowNumber          10000 non-null int64\n",
      "CustomerId         10000 non-null int64\n",
      "Surname            10000 non-null object\n",
      "CreditScore        10000 non-null int64\n",
      "Geography          10000 non-null object\n",
      "Gender             10000 non-null object\n",
      "Age                10000 non-null int64\n",
      "Tenure             9091 non-null float64\n",
      "Balance            10000 non-null float64\n",
      "NumOfProducts      10000 non-null int64\n",
      "HasCrCard          10000 non-null int64\n",
      "IsActiveMember     10000 non-null int64\n",
      "EstimatedSalary    10000 non-null float64\n",
      "Exited             10000 non-null int64\n",
      "dtypes: float64(3), int64(8), object(3)\n",
      "memory usage: 1.1+ MB\n"
     ]
    }
   ],
   "source": [
    "data.info()"
   ]
  },
  {
   "cell_type": "markdown",
   "metadata": {},
   "source": [
    "Всего в таблице 10000 записей, при этом типы переменных в колонках соответствуют данным."
   ]
  },
  {
   "cell_type": "markdown",
   "metadata": {},
   "source": [
    "Удалим из таблицы столбец `RowNumber`, отражающий индекс строки в данных, так как он не содержит никакой полезной информации, при этом лишняя информация может негативно повлиять на адекватность и результативность модели.\n",
    "\n",
    "Также на время подготовки данных к построению модели мы можем исключить из таблицы столбцы `CustomerId`, `Surname`, так как ни уникальный идентификатор клиента, ни фамилия не влияют на отношения банка и клиентов."
   ]
  },
  {
   "cell_type": "code",
   "execution_count": 4,
   "metadata": {},
   "outputs": [],
   "source": [
    "data = data.drop(columns={'RowNumber','CustomerId', 'Surname'} , axis=1 )"
   ]
  },
  {
   "cell_type": "markdown",
   "metadata": {},
   "source": [
    "Теперь изучим данные в таблице, поэтому вызовем метод `describe`:"
   ]
  },
  {
   "cell_type": "code",
   "execution_count": 5,
   "metadata": {},
   "outputs": [
    {
     "data": {
      "text/html": [
       "<div>\n",
       "<style scoped>\n",
       "    .dataframe tbody tr th:only-of-type {\n",
       "        vertical-align: middle;\n",
       "    }\n",
       "\n",
       "    .dataframe tbody tr th {\n",
       "        vertical-align: top;\n",
       "    }\n",
       "\n",
       "    .dataframe thead th {\n",
       "        text-align: right;\n",
       "    }\n",
       "</style>\n",
       "<table border=\"1\" class=\"dataframe\">\n",
       "  <thead>\n",
       "    <tr style=\"text-align: right;\">\n",
       "      <th></th>\n",
       "      <th>CreditScore</th>\n",
       "      <th>Age</th>\n",
       "      <th>Tenure</th>\n",
       "      <th>Balance</th>\n",
       "      <th>NumOfProducts</th>\n",
       "      <th>HasCrCard</th>\n",
       "      <th>IsActiveMember</th>\n",
       "      <th>EstimatedSalary</th>\n",
       "      <th>Exited</th>\n",
       "    </tr>\n",
       "  </thead>\n",
       "  <tbody>\n",
       "    <tr>\n",
       "      <td>count</td>\n",
       "      <td>10000.000000</td>\n",
       "      <td>10000.000000</td>\n",
       "      <td>9091.000000</td>\n",
       "      <td>10000.000000</td>\n",
       "      <td>10000.000000</td>\n",
       "      <td>10000.00000</td>\n",
       "      <td>10000.000000</td>\n",
       "      <td>10000.000000</td>\n",
       "      <td>10000.000000</td>\n",
       "    </tr>\n",
       "    <tr>\n",
       "      <td>mean</td>\n",
       "      <td>650.528800</td>\n",
       "      <td>38.921800</td>\n",
       "      <td>4.997690</td>\n",
       "      <td>76485.889288</td>\n",
       "      <td>1.530200</td>\n",
       "      <td>0.70550</td>\n",
       "      <td>0.515100</td>\n",
       "      <td>100090.239881</td>\n",
       "      <td>0.203700</td>\n",
       "    </tr>\n",
       "    <tr>\n",
       "      <td>std</td>\n",
       "      <td>96.653299</td>\n",
       "      <td>10.487806</td>\n",
       "      <td>2.894723</td>\n",
       "      <td>62397.405202</td>\n",
       "      <td>0.581654</td>\n",
       "      <td>0.45584</td>\n",
       "      <td>0.499797</td>\n",
       "      <td>57510.492818</td>\n",
       "      <td>0.402769</td>\n",
       "    </tr>\n",
       "    <tr>\n",
       "      <td>min</td>\n",
       "      <td>350.000000</td>\n",
       "      <td>18.000000</td>\n",
       "      <td>0.000000</td>\n",
       "      <td>0.000000</td>\n",
       "      <td>1.000000</td>\n",
       "      <td>0.00000</td>\n",
       "      <td>0.000000</td>\n",
       "      <td>11.580000</td>\n",
       "      <td>0.000000</td>\n",
       "    </tr>\n",
       "    <tr>\n",
       "      <td>25%</td>\n",
       "      <td>584.000000</td>\n",
       "      <td>32.000000</td>\n",
       "      <td>2.000000</td>\n",
       "      <td>0.000000</td>\n",
       "      <td>1.000000</td>\n",
       "      <td>0.00000</td>\n",
       "      <td>0.000000</td>\n",
       "      <td>51002.110000</td>\n",
       "      <td>0.000000</td>\n",
       "    </tr>\n",
       "    <tr>\n",
       "      <td>50%</td>\n",
       "      <td>652.000000</td>\n",
       "      <td>37.000000</td>\n",
       "      <td>5.000000</td>\n",
       "      <td>97198.540000</td>\n",
       "      <td>1.000000</td>\n",
       "      <td>1.00000</td>\n",
       "      <td>1.000000</td>\n",
       "      <td>100193.915000</td>\n",
       "      <td>0.000000</td>\n",
       "    </tr>\n",
       "    <tr>\n",
       "      <td>75%</td>\n",
       "      <td>718.000000</td>\n",
       "      <td>44.000000</td>\n",
       "      <td>7.000000</td>\n",
       "      <td>127644.240000</td>\n",
       "      <td>2.000000</td>\n",
       "      <td>1.00000</td>\n",
       "      <td>1.000000</td>\n",
       "      <td>149388.247500</td>\n",
       "      <td>0.000000</td>\n",
       "    </tr>\n",
       "    <tr>\n",
       "      <td>max</td>\n",
       "      <td>850.000000</td>\n",
       "      <td>92.000000</td>\n",
       "      <td>10.000000</td>\n",
       "      <td>250898.090000</td>\n",
       "      <td>4.000000</td>\n",
       "      <td>1.00000</td>\n",
       "      <td>1.000000</td>\n",
       "      <td>199992.480000</td>\n",
       "      <td>1.000000</td>\n",
       "    </tr>\n",
       "  </tbody>\n",
       "</table>\n",
       "</div>"
      ],
      "text/plain": [
       "        CreditScore           Age       Tenure        Balance  NumOfProducts  \\\n",
       "count  10000.000000  10000.000000  9091.000000   10000.000000   10000.000000   \n",
       "mean     650.528800     38.921800     4.997690   76485.889288       1.530200   \n",
       "std       96.653299     10.487806     2.894723   62397.405202       0.581654   \n",
       "min      350.000000     18.000000     0.000000       0.000000       1.000000   \n",
       "25%      584.000000     32.000000     2.000000       0.000000       1.000000   \n",
       "50%      652.000000     37.000000     5.000000   97198.540000       1.000000   \n",
       "75%      718.000000     44.000000     7.000000  127644.240000       2.000000   \n",
       "max      850.000000     92.000000    10.000000  250898.090000       4.000000   \n",
       "\n",
       "         HasCrCard  IsActiveMember  EstimatedSalary        Exited  \n",
       "count  10000.00000    10000.000000     10000.000000  10000.000000  \n",
       "mean       0.70550        0.515100    100090.239881      0.203700  \n",
       "std        0.45584        0.499797     57510.492818      0.402769  \n",
       "min        0.00000        0.000000        11.580000      0.000000  \n",
       "25%        0.00000        0.000000     51002.110000      0.000000  \n",
       "50%        1.00000        1.000000    100193.915000      0.000000  \n",
       "75%        1.00000        1.000000    149388.247500      0.000000  \n",
       "max        1.00000        1.000000    199992.480000      1.000000  "
      ]
     },
     "execution_count": 5,
     "metadata": {},
     "output_type": "execute_result"
    }
   ],
   "source": [
    "data.describe()"
   ]
  },
  {
   "cell_type": "markdown",
   "metadata": {},
   "source": [
    "Как видим, таблица содержит пропущенные значения. Они находятся только в столбце 'Tenure', содержащем информацию о количестве лет, в течение которых человек является клиентом банка. \n",
    "Попробуем заполнить пропуски исходя из возраста и пола клиентов.\n",
    "\n",
    "Для этого мы напишем функцию `fill_tenure`, которая будет принимать строку, а возвращать значение для столбца `'Tenure'`. Для ее написания используем библиотеку `math`, которую мы импортировали [ранее](#import):"
   ]
  },
  {
   "cell_type": "code",
   "execution_count": 6,
   "metadata": {},
   "outputs": [],
   "source": [
    "def fill_tenure(row):\n",
    "    age = row.loc['Age']\n",
    "    gender = row.loc['Gender']\n",
    "    tenure = row.loc['Tenure']\n",
    "    if math.isnan(tenure):\n",
    "        tenure = data.loc[(data['Age']==age) & (data['Gender']==gender)]['Tenure'].median()\n",
    "    return tenure\n",
    "    "
   ]
  },
  {
   "cell_type": "markdown",
   "metadata": {},
   "source": [
    "Заполним пропуски в столбце `'Tenure'`, применив к таблице data функцию `fill_tenure`: "
   ]
  },
  {
   "cell_type": "code",
   "execution_count": 7,
   "metadata": {},
   "outputs": [],
   "source": [
    "data['Tenure'] = data.apply(fill_tenure, axis=1)"
   ]
  },
  {
   "cell_type": "markdown",
   "metadata": {},
   "source": [
    "Проверим, остались ли пропуски после заполнения таблицы:"
   ]
  },
  {
   "cell_type": "code",
   "execution_count": 8,
   "metadata": {
    "scrolled": true
   },
   "outputs": [
    {
     "data": {
      "text/html": [
       "<div>\n",
       "<style scoped>\n",
       "    .dataframe tbody tr th:only-of-type {\n",
       "        vertical-align: middle;\n",
       "    }\n",
       "\n",
       "    .dataframe tbody tr th {\n",
       "        vertical-align: top;\n",
       "    }\n",
       "\n",
       "    .dataframe thead th {\n",
       "        text-align: right;\n",
       "    }\n",
       "</style>\n",
       "<table border=\"1\" class=\"dataframe\">\n",
       "  <thead>\n",
       "    <tr style=\"text-align: right;\">\n",
       "      <th></th>\n",
       "      <th>CreditScore</th>\n",
       "      <th>Geography</th>\n",
       "      <th>Gender</th>\n",
       "      <th>Age</th>\n",
       "      <th>Tenure</th>\n",
       "      <th>Balance</th>\n",
       "      <th>NumOfProducts</th>\n",
       "      <th>HasCrCard</th>\n",
       "      <th>IsActiveMember</th>\n",
       "      <th>EstimatedSalary</th>\n",
       "      <th>Exited</th>\n",
       "    </tr>\n",
       "  </thead>\n",
       "  <tbody>\n",
       "  </tbody>\n",
       "</table>\n",
       "</div>"
      ],
      "text/plain": [
       "Empty DataFrame\n",
       "Columns: [CreditScore, Geography, Gender, Age, Tenure, Balance, NumOfProducts, HasCrCard, IsActiveMember, EstimatedSalary, Exited]\n",
       "Index: []"
      ]
     },
     "execution_count": 8,
     "metadata": {},
     "output_type": "execute_result"
    }
   ],
   "source": [
    "data[(data['Tenure'].isna())]"
   ]
  },
  {
   "cell_type": "markdown",
   "metadata": {},
   "source": [
    "Как видим, все пропуски заполнены."
   ]
  },
  {
   "cell_type": "markdown",
   "metadata": {},
   "source": [
    "В таблице практически все столбцы, кроме `Gender` и `Geography` - количественные. Нам нужно построить модель, которая будет решать задачу классификации (уйдет клиент или нет). Применим технику прямого кодирования, чтобы преобразовать категориальные переменные в количественные.\n",
    "\n",
    "Для каждого замененного категориального столбца в таблице появятся новые количественные столбцы. Поскольку они сильно связаны между собой, и чтобы не попасть в дамми-ловушку, укажем аргумент drop_first=True"
   ]
  },
  {
   "cell_type": "code",
   "execution_count": 9,
   "metadata": {},
   "outputs": [],
   "source": [
    "data_ohe = pd.get_dummies(data, drop_first=True)"
   ]
  },
  {
   "cell_type": "code",
   "execution_count": 10,
   "metadata": {},
   "outputs": [
    {
     "data": {
      "text/html": [
       "<div>\n",
       "<style scoped>\n",
       "    .dataframe tbody tr th:only-of-type {\n",
       "        vertical-align: middle;\n",
       "    }\n",
       "\n",
       "    .dataframe tbody tr th {\n",
       "        vertical-align: top;\n",
       "    }\n",
       "\n",
       "    .dataframe thead th {\n",
       "        text-align: right;\n",
       "    }\n",
       "</style>\n",
       "<table border=\"1\" class=\"dataframe\">\n",
       "  <thead>\n",
       "    <tr style=\"text-align: right;\">\n",
       "      <th></th>\n",
       "      <th>CreditScore</th>\n",
       "      <th>Age</th>\n",
       "      <th>Tenure</th>\n",
       "      <th>Balance</th>\n",
       "      <th>NumOfProducts</th>\n",
       "      <th>HasCrCard</th>\n",
       "      <th>IsActiveMember</th>\n",
       "      <th>EstimatedSalary</th>\n",
       "      <th>Exited</th>\n",
       "      <th>Geography_Germany</th>\n",
       "      <th>Geography_Spain</th>\n",
       "      <th>Gender_Male</th>\n",
       "    </tr>\n",
       "  </thead>\n",
       "  <tbody>\n",
       "    <tr>\n",
       "      <td>0</td>\n",
       "      <td>619</td>\n",
       "      <td>42</td>\n",
       "      <td>2.0</td>\n",
       "      <td>0.00</td>\n",
       "      <td>1</td>\n",
       "      <td>1</td>\n",
       "      <td>1</td>\n",
       "      <td>101348.88</td>\n",
       "      <td>1</td>\n",
       "      <td>0</td>\n",
       "      <td>0</td>\n",
       "      <td>0</td>\n",
       "    </tr>\n",
       "    <tr>\n",
       "      <td>1</td>\n",
       "      <td>608</td>\n",
       "      <td>41</td>\n",
       "      <td>1.0</td>\n",
       "      <td>83807.86</td>\n",
       "      <td>1</td>\n",
       "      <td>0</td>\n",
       "      <td>1</td>\n",
       "      <td>112542.58</td>\n",
       "      <td>0</td>\n",
       "      <td>0</td>\n",
       "      <td>1</td>\n",
       "      <td>0</td>\n",
       "    </tr>\n",
       "    <tr>\n",
       "      <td>2</td>\n",
       "      <td>502</td>\n",
       "      <td>42</td>\n",
       "      <td>8.0</td>\n",
       "      <td>159660.80</td>\n",
       "      <td>3</td>\n",
       "      <td>1</td>\n",
       "      <td>0</td>\n",
       "      <td>113931.57</td>\n",
       "      <td>1</td>\n",
       "      <td>0</td>\n",
       "      <td>0</td>\n",
       "      <td>0</td>\n",
       "    </tr>\n",
       "    <tr>\n",
       "      <td>3</td>\n",
       "      <td>699</td>\n",
       "      <td>39</td>\n",
       "      <td>1.0</td>\n",
       "      <td>0.00</td>\n",
       "      <td>2</td>\n",
       "      <td>0</td>\n",
       "      <td>0</td>\n",
       "      <td>93826.63</td>\n",
       "      <td>0</td>\n",
       "      <td>0</td>\n",
       "      <td>0</td>\n",
       "      <td>0</td>\n",
       "    </tr>\n",
       "    <tr>\n",
       "      <td>4</td>\n",
       "      <td>850</td>\n",
       "      <td>43</td>\n",
       "      <td>2.0</td>\n",
       "      <td>125510.82</td>\n",
       "      <td>1</td>\n",
       "      <td>1</td>\n",
       "      <td>1</td>\n",
       "      <td>79084.10</td>\n",
       "      <td>0</td>\n",
       "      <td>0</td>\n",
       "      <td>1</td>\n",
       "      <td>0</td>\n",
       "    </tr>\n",
       "  </tbody>\n",
       "</table>\n",
       "</div>"
      ],
      "text/plain": [
       "   CreditScore  Age  Tenure    Balance  NumOfProducts  HasCrCard  \\\n",
       "0          619   42     2.0       0.00              1          1   \n",
       "1          608   41     1.0   83807.86              1          0   \n",
       "2          502   42     8.0  159660.80              3          1   \n",
       "3          699   39     1.0       0.00              2          0   \n",
       "4          850   43     2.0  125510.82              1          1   \n",
       "\n",
       "   IsActiveMember  EstimatedSalary  Exited  Geography_Germany  \\\n",
       "0               1        101348.88       1                  0   \n",
       "1               1        112542.58       0                  0   \n",
       "2               0        113931.57       1                  0   \n",
       "3               0         93826.63       0                  0   \n",
       "4               1         79084.10       0                  0   \n",
       "\n",
       "   Geography_Spain  Gender_Male  \n",
       "0                0            0  \n",
       "1                1            0  \n",
       "2                0            0  \n",
       "3                0            0  \n",
       "4                1            0  "
      ]
     },
     "execution_count": 10,
     "metadata": {},
     "output_type": "execute_result"
    }
   ],
   "source": [
    "data_ohe.head()"
   ]
  },
  {
   "cell_type": "markdown",
   "metadata": {},
   "source": [
    "Рассмотрим более подробно таблицу. Для этого вызовем метод `describe`:"
   ]
  },
  {
   "cell_type": "code",
   "execution_count": 11,
   "metadata": {
    "scrolled": true
   },
   "outputs": [
    {
     "data": {
      "text/html": [
       "<div>\n",
       "<style scoped>\n",
       "    .dataframe tbody tr th:only-of-type {\n",
       "        vertical-align: middle;\n",
       "    }\n",
       "\n",
       "    .dataframe tbody tr th {\n",
       "        vertical-align: top;\n",
       "    }\n",
       "\n",
       "    .dataframe thead th {\n",
       "        text-align: right;\n",
       "    }\n",
       "</style>\n",
       "<table border=\"1\" class=\"dataframe\">\n",
       "  <thead>\n",
       "    <tr style=\"text-align: right;\">\n",
       "      <th></th>\n",
       "      <th>CreditScore</th>\n",
       "      <th>Age</th>\n",
       "      <th>Tenure</th>\n",
       "      <th>Balance</th>\n",
       "      <th>NumOfProducts</th>\n",
       "      <th>HasCrCard</th>\n",
       "      <th>IsActiveMember</th>\n",
       "      <th>EstimatedSalary</th>\n",
       "      <th>Exited</th>\n",
       "      <th>Geography_Germany</th>\n",
       "      <th>Geography_Spain</th>\n",
       "      <th>Gender_Male</th>\n",
       "    </tr>\n",
       "  </thead>\n",
       "  <tbody>\n",
       "    <tr>\n",
       "      <td>count</td>\n",
       "      <td>10000.000000</td>\n",
       "      <td>10000.000000</td>\n",
       "      <td>10000.000000</td>\n",
       "      <td>10000.000000</td>\n",
       "      <td>10000.000000</td>\n",
       "      <td>10000.00000</td>\n",
       "      <td>10000.000000</td>\n",
       "      <td>10000.000000</td>\n",
       "      <td>10000.000000</td>\n",
       "      <td>10000.000000</td>\n",
       "      <td>10000.000000</td>\n",
       "      <td>10000.000000</td>\n",
       "    </tr>\n",
       "    <tr>\n",
       "      <td>mean</td>\n",
       "      <td>650.528800</td>\n",
       "      <td>38.921800</td>\n",
       "      <td>4.996150</td>\n",
       "      <td>76485.889288</td>\n",
       "      <td>1.530200</td>\n",
       "      <td>0.70550</td>\n",
       "      <td>0.515100</td>\n",
       "      <td>100090.239881</td>\n",
       "      <td>0.203700</td>\n",
       "      <td>0.250900</td>\n",
       "      <td>0.247700</td>\n",
       "      <td>0.545700</td>\n",
       "    </tr>\n",
       "    <tr>\n",
       "      <td>std</td>\n",
       "      <td>96.653299</td>\n",
       "      <td>10.487806</td>\n",
       "      <td>2.765732</td>\n",
       "      <td>62397.405202</td>\n",
       "      <td>0.581654</td>\n",
       "      <td>0.45584</td>\n",
       "      <td>0.499797</td>\n",
       "      <td>57510.492818</td>\n",
       "      <td>0.402769</td>\n",
       "      <td>0.433553</td>\n",
       "      <td>0.431698</td>\n",
       "      <td>0.497932</td>\n",
       "    </tr>\n",
       "    <tr>\n",
       "      <td>min</td>\n",
       "      <td>350.000000</td>\n",
       "      <td>18.000000</td>\n",
       "      <td>0.000000</td>\n",
       "      <td>0.000000</td>\n",
       "      <td>1.000000</td>\n",
       "      <td>0.00000</td>\n",
       "      <td>0.000000</td>\n",
       "      <td>11.580000</td>\n",
       "      <td>0.000000</td>\n",
       "      <td>0.000000</td>\n",
       "      <td>0.000000</td>\n",
       "      <td>0.000000</td>\n",
       "    </tr>\n",
       "    <tr>\n",
       "      <td>25%</td>\n",
       "      <td>584.000000</td>\n",
       "      <td>32.000000</td>\n",
       "      <td>3.000000</td>\n",
       "      <td>0.000000</td>\n",
       "      <td>1.000000</td>\n",
       "      <td>0.00000</td>\n",
       "      <td>0.000000</td>\n",
       "      <td>51002.110000</td>\n",
       "      <td>0.000000</td>\n",
       "      <td>0.000000</td>\n",
       "      <td>0.000000</td>\n",
       "      <td>0.000000</td>\n",
       "    </tr>\n",
       "    <tr>\n",
       "      <td>50%</td>\n",
       "      <td>652.000000</td>\n",
       "      <td>37.000000</td>\n",
       "      <td>5.000000</td>\n",
       "      <td>97198.540000</td>\n",
       "      <td>1.000000</td>\n",
       "      <td>1.00000</td>\n",
       "      <td>1.000000</td>\n",
       "      <td>100193.915000</td>\n",
       "      <td>0.000000</td>\n",
       "      <td>0.000000</td>\n",
       "      <td>0.000000</td>\n",
       "      <td>1.000000</td>\n",
       "    </tr>\n",
       "    <tr>\n",
       "      <td>75%</td>\n",
       "      <td>718.000000</td>\n",
       "      <td>44.000000</td>\n",
       "      <td>7.000000</td>\n",
       "      <td>127644.240000</td>\n",
       "      <td>2.000000</td>\n",
       "      <td>1.00000</td>\n",
       "      <td>1.000000</td>\n",
       "      <td>149388.247500</td>\n",
       "      <td>0.000000</td>\n",
       "      <td>1.000000</td>\n",
       "      <td>0.000000</td>\n",
       "      <td>1.000000</td>\n",
       "    </tr>\n",
       "    <tr>\n",
       "      <td>max</td>\n",
       "      <td>850.000000</td>\n",
       "      <td>92.000000</td>\n",
       "      <td>10.000000</td>\n",
       "      <td>250898.090000</td>\n",
       "      <td>4.000000</td>\n",
       "      <td>1.00000</td>\n",
       "      <td>1.000000</td>\n",
       "      <td>199992.480000</td>\n",
       "      <td>1.000000</td>\n",
       "      <td>1.000000</td>\n",
       "      <td>1.000000</td>\n",
       "      <td>1.000000</td>\n",
       "    </tr>\n",
       "  </tbody>\n",
       "</table>\n",
       "</div>"
      ],
      "text/plain": [
       "        CreditScore           Age        Tenure        Balance  NumOfProducts  \\\n",
       "count  10000.000000  10000.000000  10000.000000   10000.000000   10000.000000   \n",
       "mean     650.528800     38.921800      4.996150   76485.889288       1.530200   \n",
       "std       96.653299     10.487806      2.765732   62397.405202       0.581654   \n",
       "min      350.000000     18.000000      0.000000       0.000000       1.000000   \n",
       "25%      584.000000     32.000000      3.000000       0.000000       1.000000   \n",
       "50%      652.000000     37.000000      5.000000   97198.540000       1.000000   \n",
       "75%      718.000000     44.000000      7.000000  127644.240000       2.000000   \n",
       "max      850.000000     92.000000     10.000000  250898.090000       4.000000   \n",
       "\n",
       "         HasCrCard  IsActiveMember  EstimatedSalary        Exited  \\\n",
       "count  10000.00000    10000.000000     10000.000000  10000.000000   \n",
       "mean       0.70550        0.515100    100090.239881      0.203700   \n",
       "std        0.45584        0.499797     57510.492818      0.402769   \n",
       "min        0.00000        0.000000        11.580000      0.000000   \n",
       "25%        0.00000        0.000000     51002.110000      0.000000   \n",
       "50%        1.00000        1.000000    100193.915000      0.000000   \n",
       "75%        1.00000        1.000000    149388.247500      0.000000   \n",
       "max        1.00000        1.000000    199992.480000      1.000000   \n",
       "\n",
       "       Geography_Germany  Geography_Spain   Gender_Male  \n",
       "count       10000.000000     10000.000000  10000.000000  \n",
       "mean            0.250900         0.247700      0.545700  \n",
       "std             0.433553         0.431698      0.497932  \n",
       "min             0.000000         0.000000      0.000000  \n",
       "25%             0.000000         0.000000      0.000000  \n",
       "50%             0.000000         0.000000      1.000000  \n",
       "75%             1.000000         0.000000      1.000000  \n",
       "max             1.000000         1.000000      1.000000  "
      ]
     },
     "execution_count": 11,
     "metadata": {},
     "output_type": "execute_result"
    }
   ],
   "source": [
    "data_ohe.describe()"
   ]
  },
  {
   "cell_type": "markdown",
   "metadata": {},
   "source": [
    "В данных есть столбцы: Age и Balance. В таблице указан возраст от 18 до 92 лет, а баланс на счёте — от 0  до 250898.09. Значения и их разбросы в столбце Balance больше, поэтому алгоритм может решить, что этот признак важнее возраста. А это не так: все признаки значимы. Чтобы избежать этой ловушки, нужно масштабировать признаки. Для этого используем метод стандартизации данных.\n",
    "\n",
    "[Ранее](#import) мы импортировали StandardScaler из библиотеки `sklearn.preprocessing`. Создадим объект этой структуры данных:"
   ]
  },
  {
   "cell_type": "code",
   "execution_count": 12,
   "metadata": {},
   "outputs": [],
   "source": [
    "scaler = StandardScaler()"
   ]
  },
  {
   "cell_type": "markdown",
   "metadata": {},
   "source": [
    "Чтобы настроить его, нам нужно разделить наши данные из таблицы data_ohe на обучающую, валидационную и тестовую выборки. \n",
    "Разделим исходные данные на обучающую, валидационную и тестовую выборки. Так как спрятанной тестовой выборки нет, то данные нужно разбить на три части. Размеры тестового и валидационного наборов обычно равны. Поэтому исходные данные разобъем в соотношении 3:1:1.\n",
    "\n",
    "Для разделения на требуемые выборки мы ранее импортировали `train_test_split` из библиотеки `sklearn.model_selection`. C помощью функции train_test_split разделим исходный датасет:"
   ]
  },
  {
   "cell_type": "code",
   "execution_count": 13,
   "metadata": {},
   "outputs": [],
   "source": [
    "target = data_ohe['Exited']\n",
    "features = data_ohe.drop('Exited', axis=1)\n",
    "features_train, features_2, target_train, target_2 = train_test_split(\n",
    "    features, target, test_size=0.4, random_state=12345)\n",
    "features_valid, features_test, target_valid, target_test = train_test_split(\n",
    "    features_2, target_2, test_size=0.5, random_state=12345)"
   ]
  },
  {
   "cell_type": "markdown",
   "metadata": {},
   "source": [
    "Проверим, как произошло разделение данных. Для этого проверим, каков размер получившихся выборок:"
   ]
  },
  {
   "cell_type": "code",
   "execution_count": 14,
   "metadata": {},
   "outputs": [
    {
     "name": "stdout",
     "output_type": "stream",
     "text": [
      "6000\n",
      "2000\n",
      "2000\n",
      "6000\n",
      "2000\n",
      "2000\n"
     ]
    }
   ],
   "source": [
    "print(features_train.shape[0])\n",
    "print(features_valid.shape[0])\n",
    "print(features_test.shape[0])\n",
    "\n",
    "print(target_train.shape[0])\n",
    "print(target_valid.shape[0])\n",
    "print(target_test.shape[0])"
   ]
  },
  {
   "cell_type": "markdown",
   "metadata": {},
   "source": [
    "Преобразуем обучающие, валидационные и тестовые выборки функцией `transform()`:"
   ]
  },
  {
   "cell_type": "code",
   "execution_count": 15,
   "metadata": {},
   "outputs": [],
   "source": [
    "scaler.fit(features_train)\n",
    "features_train = scaler.transform(features_train)\n",
    "features_valid = scaler.transform(features_valid)\n",
    "features_test = scaler.transform(features_test)"
   ]
  },
  {
   "cell_type": "markdown",
   "metadata": {},
   "source": [
    "### Вывод"
   ]
  },
  {
   "cell_type": "markdown",
   "metadata": {},
   "source": [
    "В этой части проекта мы:\n",
    "* удалили столбцы с избыточной для построения и обучения модели информацией ('RowNumber', 'CustomerId',  'Surname') \n",
    "* заполнили пропуски в столбце 'Tenure' \n",
    "* перевели столбцы с категориальными переменными в количественные ('Gender' и 'Geography') \n",
    "* разделили данные на обучающую, валидационную и тестовую выборки\n",
    "* произвели масштабирование признаков с помощью метода стандартизации данных."
   ]
  },
  {
   "cell_type": "markdown",
   "metadata": {},
   "source": [
    "## Исследование задачи"
   ]
  },
  {
   "cell_type": "markdown",
   "metadata": {},
   "source": [
    "Посмотрим, как соотносятся значения целевого признака друг к другу. Для этого вызовем метод `value_counts` для обучающей выборки. Чтобы сразу увидеть соотношение величин, в параметрах укажем `normalize=True` :"
   ]
  },
  {
   "cell_type": "code",
   "execution_count": 16,
   "metadata": {
    "scrolled": true
   },
   "outputs": [
    {
     "data": {
      "text/plain": [
       "0    0.800667\n",
       "1    0.199333\n",
       "Name: Exited, dtype: float64"
      ]
     },
     "execution_count": 16,
     "metadata": {},
     "output_type": "execute_result"
    }
   ],
   "source": [
    "target_train.value_counts(normalize=True)"
   ]
  },
  {
   "cell_type": "markdown",
   "metadata": {},
   "source": [
    "Как видим, классы несбалансированны, их соотношение примерно 4:1, а не 1:1. Баланс же классов наблюдается, если их количество примерно равно. Поэтому для определения точности модели метрика accuracy не подходит. Вместо будем использовать F1-меру. Также для сравнения будем сразу же подсчитывать метрику AUC-ROC."
   ]
  },
  {
   "cell_type": "markdown",
   "metadata": {},
   "source": [
    "Сначала обучим модель логистической регрессии. Для ее создания [ранее](#import) мы импортировали  соответствующий модуль из библиотеки `sklearn.linear_model`.\n",
    "\n",
    "Обучим модель на обучающей выборке, и посчитаем значение F1-меры, AUC-ROC на данных валидационной выборки:"
   ]
  },
  {
   "cell_type": "code",
   "execution_count": 17,
   "metadata": {},
   "outputs": [
    {
     "name": "stdout",
     "output_type": "stream",
     "text": [
      "Значение F1-меры: 0.33670033670033667\n",
      "Значение метрики AUC-ROC: 0.7585455997193304\n"
     ]
    }
   ],
   "source": [
    "model = LogisticRegression(random_state=12345, solver='liblinear')\n",
    "model.fit(features_train, target_train)\n",
    "predictions = model.predict(features_valid)\n",
    "valid_f1_score = f1_score(target_valid, predictions)\n",
    "print(\"Значение F1-меры:\", valid_f1_score)\n",
    "probabilities_valid = model.predict_proba(features_valid)\n",
    "probabilities_one_valid = probabilities_valid[:, 1]\n",
    "auc_roc = roc_auc_score(target_valid, probabilities_one_valid)\n",
    "print('Значение метрики AUC-ROC:', auc_roc)\n"
   ]
  },
  {
   "cell_type": "code",
   "execution_count": 19,
   "metadata": {},
   "outputs": [
    {
     "data": {
      "text/html": [
       "<div>\n",
       "<style scoped>\n",
       "    .dataframe tbody tr th:only-of-type {\n",
       "        vertical-align: middle;\n",
       "    }\n",
       "\n",
       "    .dataframe tbody tr th {\n",
       "        vertical-align: top;\n",
       "    }\n",
       "\n",
       "    .dataframe thead th {\n",
       "        text-align: right;\n",
       "    }\n",
       "</style>\n",
       "<table border=\"1\" class=\"dataframe\">\n",
       "  <thead>\n",
       "    <tr style=\"text-align: right;\">\n",
       "      <th></th>\n",
       "      <th>n_estimators</th>\n",
       "      <th>f1_score</th>\n",
       "      <th>auc_roc</th>\n",
       "    </tr>\n",
       "  </thead>\n",
       "  <tbody>\n",
       "    <tr>\n",
       "      <td>60</td>\n",
       "      <td>61</td>\n",
       "      <td>0.585652</td>\n",
       "      <td>0.838944</td>\n",
       "    </tr>\n",
       "  </tbody>\n",
       "</table>\n",
       "</div>"
      ],
      "text/plain": [
       "    n_estimators  f1_score   auc_roc\n",
       "60            61  0.585652  0.838944"
      ]
     },
     "metadata": {},
     "output_type": "display_data"
    },
    {
     "data": {
      "text/html": [
       "<div>\n",
       "<style scoped>\n",
       "    .dataframe tbody tr th:only-of-type {\n",
       "        vertical-align: middle;\n",
       "    }\n",
       "\n",
       "    .dataframe tbody tr th {\n",
       "        vertical-align: top;\n",
       "    }\n",
       "\n",
       "    .dataframe thead th {\n",
       "        text-align: right;\n",
       "    }\n",
       "</style>\n",
       "<table border=\"1\" class=\"dataframe\">\n",
       "  <thead>\n",
       "    <tr style=\"text-align: right;\">\n",
       "      <th></th>\n",
       "      <th>n_estimators</th>\n",
       "      <th>f1_score</th>\n",
       "      <th>auc_roc</th>\n",
       "    </tr>\n",
       "  </thead>\n",
       "  <tbody>\n",
       "    <tr>\n",
       "      <td>90</td>\n",
       "      <td>91</td>\n",
       "      <td>0.576119</td>\n",
       "      <td>0.840941</td>\n",
       "    </tr>\n",
       "  </tbody>\n",
       "</table>\n",
       "</div>"
      ],
      "text/plain": [
       "    n_estimators  f1_score   auc_roc\n",
       "90            91  0.576119  0.840941"
      ]
     },
     "metadata": {},
     "output_type": "display_data"
    }
   ],
   "source": [
    "col = ['n_estimators', 'f1_score', 'auc_roc']\n",
    "data = []\n",
    "\n",
    "for est in range(1, 100):\n",
    "    model = RandomForestClassifier(random_state=12345, n_estimators=est) \n",
    "    model.fit(features_train,target_train) \n",
    "    predictions = model.predict(features_valid)\n",
    "    f1 = f1_score(target_valid, predictions)\n",
    "    probabilities_valid = model.predict_proba(features_valid)\n",
    "    probabilities_one_valid = probabilities_valid[:, 1]\n",
    "    auc_roc = roc_auc_score(target_valid, probabilities_one_valid)\n",
    "    data.append([est, f1, auc_roc])\n",
    "table = pd.DataFrame(data = data, columns=col)\n",
    "display(table[table['f1_score']==table['f1_score'].max()]) \n",
    "display(table[table['auc_roc']==table['auc_roc'].max()])"
   ]
  },
  {
   "cell_type": "markdown",
   "metadata": {},
   "source": [
    "Наибольшее значение F1-меры в 0.585652 достигается при величине гиперпараметра n_estimators равного 61. Максимальное значение метрики AUC-ROC (0.84) достигается при n_estimators=91."
   ]
  },
  {
   "cell_type": "markdown",
   "metadata": {},
   "source": [
    "### Вывод\n",
    "\n",
    "В этой части работы мы обнаружили, классы несбалансированны, их соотношение примерно 4:1. Также мы изучили модели для решения задачи классификации и подсчитали для каждой из них значение F1-меры и AUC-ROC, меняя (где есть возможность) значение гиперпараметров. \n",
    "* модель логистической регрессии: F1-меры: 0.337, AUC-ROC: 0.759\n",
    "* модель решающего дерева: максимальная F1-мера 0.569 при max_depth=6 (AUC-ROC = 0.816), максимальная величина AUC-ROC 0.822 при max_depth=5 (F1-мера = 0.54)\n",
    "* модель случайного леса : максимальная F1-мера в 0.586 при n_estimators=61 (AUC-ROC =0.839). Максимальное значение метрики AUC-ROC 0.84 при n_estimators=91 (F1-мера  = 0.576).\n"
   ]
  },
  {
   "cell_type": "markdown",
   "metadata": {},
   "source": [
    "## Борьба с дисбалансом"
   ]
  },
  {
   "cell_type": "markdown",
   "metadata": {},
   "source": [
    "**Взвешивание классов**"
   ]
  },
  {
   "cell_type": "markdown",
   "metadata": {},
   "source": [
    "Один из способов борьбы с дисбалансом классов - взвешивание классов. Если указать `class_weight='balanced'`, алгоритм посчитает, во сколько раз один класс встречается чаще другого класса. Аргумент class_weight есть всех трех, используемых нами, типов моделей: логистической регрессии, решающего дерева и случайного леса.\n",
    "Посмотрим, как изменятся результаты, если мы укажем `class_weight='balanced'`:"
   ]
  },
  {
   "cell_type": "code",
   "execution_count": 20,
   "metadata": {},
   "outputs": [
    {
     "name": "stdout",
     "output_type": "stream",
     "text": [
      "Значение F1-меры: 0.48843187660668386\n",
      "Значение метрики AUC-ROC: 0.7635404883891144\n"
     ]
    }
   ],
   "source": [
    "model = LogisticRegression(random_state=12345, solver='liblinear', class_weight='balanced')\n",
    "model.fit(features_train, target_train)\n",
    "predictions = model.predict(features_valid)\n",
    "valid_f1_score = f1_score(target_valid, predictions)\n",
    "print(\"Значение F1-меры:\", valid_f1_score)\n",
    "probabilities_valid = model.predict_proba(features_valid)\n",
    "probabilities_one_valid = probabilities_valid[:, 1]\n",
    "auc_roc = roc_auc_score(target_valid, probabilities_one_valid)\n",
    "print('Значение метрики AUC-ROC:', auc_roc)"
   ]
  },
  {
   "cell_type": "markdown",
   "metadata": {},
   "source": [
    "Как видим значение F1-меры  увеличилилось и стало 0.488 (было 0.337), значение метрики AUC-ROC также увеличилось и стало 0.764 (было 0.759)."
   ]
  },
  {
   "cell_type": "markdown",
   "metadata": {},
   "source": [
    "Теперь укажем class_weight='balanced' для модели решающего дерева:"
   ]
  },
  {
   "cell_type": "code",
   "execution_count": 21,
   "metadata": {},
   "outputs": [
    {
     "data": {
      "text/html": [
       "<div>\n",
       "<style scoped>\n",
       "    .dataframe tbody tr th:only-of-type {\n",
       "        vertical-align: middle;\n",
       "    }\n",
       "\n",
       "    .dataframe tbody tr th {\n",
       "        vertical-align: top;\n",
       "    }\n",
       "\n",
       "    .dataframe thead th {\n",
       "        text-align: right;\n",
       "    }\n",
       "</style>\n",
       "<table border=\"1\" class=\"dataframe\">\n",
       "  <thead>\n",
       "    <tr style=\"text-align: right;\">\n",
       "      <th></th>\n",
       "      <th>max_depth</th>\n",
       "      <th>f1_score</th>\n",
       "      <th>auc_roc</th>\n",
       "    </tr>\n",
       "  </thead>\n",
       "  <tbody>\n",
       "    <tr>\n",
       "      <td>4</td>\n",
       "      <td>5</td>\n",
       "      <td>0.596379</td>\n",
       "      <td>0.831024</td>\n",
       "    </tr>\n",
       "  </tbody>\n",
       "</table>\n",
       "</div>"
      ],
      "text/plain": [
       "   max_depth  f1_score   auc_roc\n",
       "4          5  0.596379  0.831024"
      ]
     },
     "metadata": {},
     "output_type": "display_data"
    },
    {
     "data": {
      "text/html": [
       "<div>\n",
       "<style scoped>\n",
       "    .dataframe tbody tr th:only-of-type {\n",
       "        vertical-align: middle;\n",
       "    }\n",
       "\n",
       "    .dataframe tbody tr th {\n",
       "        vertical-align: top;\n",
       "    }\n",
       "\n",
       "    .dataframe thead th {\n",
       "        text-align: right;\n",
       "    }\n",
       "</style>\n",
       "<table border=\"1\" class=\"dataframe\">\n",
       "  <thead>\n",
       "    <tr style=\"text-align: right;\">\n",
       "      <th></th>\n",
       "      <th>max_depth</th>\n",
       "      <th>f1_score</th>\n",
       "      <th>auc_roc</th>\n",
       "    </tr>\n",
       "  </thead>\n",
       "  <tbody>\n",
       "    <tr>\n",
       "      <td>4</td>\n",
       "      <td>5</td>\n",
       "      <td>0.596379</td>\n",
       "      <td>0.831024</td>\n",
       "    </tr>\n",
       "  </tbody>\n",
       "</table>\n",
       "</div>"
      ],
      "text/plain": [
       "   max_depth  f1_score   auc_roc\n",
       "4          5  0.596379  0.831024"
      ]
     },
     "metadata": {},
     "output_type": "display_data"
    }
   ],
   "source": [
    "col = ['max_depth', 'f1_score', 'auc_roc']\n",
    "data = []\n",
    "\n",
    "for depth in range(1, 16):\n",
    "    model = DecisionTreeClassifier(random_state=12345, max_depth=depth, class_weight='balanced')\n",
    "    model.fit(features_train,target_train) \n",
    "    predictions = model.predict(features_valid)\n",
    "    valid_f1_score = f1_score(target_valid, predictions)\n",
    "    probabilities_valid = model.predict_proba(features_valid)\n",
    "    probabilities_one_valid = probabilities_valid[:, 1]\n",
    "    auc_roc = roc_auc_score(target_valid, probabilities_one_valid)\n",
    "    data.append([depth, valid_f1_score, auc_roc])\n",
    "table = pd.DataFrame(data = data, columns=col)\n",
    "display(table[table['f1_score']==table['f1_score'].max()]) \n",
    "display(table[table['auc_roc']==table['auc_roc'].max()])"
   ]
  },
  {
   "cell_type": "markdown",
   "metadata": {},
   "source": [
    "Как видим, теперь и максимальное значение F1-меры и значение метрики AUC-ROC достигаются при значении параметра max_depth = 5. Помимо этого, оба показателя выросли и достигли:\n",
    "* F1-мера: 0.596 (ранее - 0.569)\n",
    "* AUC-ROC: 0.831 (ранее - 0.822)"
   ]
  },
  {
   "cell_type": "markdown",
   "metadata": {},
   "source": [
    "Теперь укажем class_weight='balanced' для модели случайного леса:"
   ]
  },
  {
   "cell_type": "code",
   "execution_count": 22,
   "metadata": {},
   "outputs": [
    {
     "data": {
      "text/html": [
       "<div>\n",
       "<style scoped>\n",
       "    .dataframe tbody tr th:only-of-type {\n",
       "        vertical-align: middle;\n",
       "    }\n",
       "\n",
       "    .dataframe tbody tr th {\n",
       "        vertical-align: top;\n",
       "    }\n",
       "\n",
       "    .dataframe thead th {\n",
       "        text-align: right;\n",
       "    }\n",
       "</style>\n",
       "<table border=\"1\" class=\"dataframe\">\n",
       "  <thead>\n",
       "    <tr style=\"text-align: right;\">\n",
       "      <th></th>\n",
       "      <th>n_estimators</th>\n",
       "      <th>f1_score</th>\n",
       "      <th>auc_roc</th>\n",
       "    </tr>\n",
       "  </thead>\n",
       "  <tbody>\n",
       "    <tr>\n",
       "      <td>8</td>\n",
       "      <td>9</td>\n",
       "      <td>0.590585</td>\n",
       "      <td>0.806188</td>\n",
       "    </tr>\n",
       "  </tbody>\n",
       "</table>\n",
       "</div>"
      ],
      "text/plain": [
       "   n_estimators  f1_score   auc_roc\n",
       "8             9  0.590585  0.806188"
      ]
     },
     "metadata": {},
     "output_type": "display_data"
    },
    {
     "data": {
      "text/html": [
       "<div>\n",
       "<style scoped>\n",
       "    .dataframe tbody tr th:only-of-type {\n",
       "        vertical-align: middle;\n",
       "    }\n",
       "\n",
       "    .dataframe tbody tr th {\n",
       "        vertical-align: top;\n",
       "    }\n",
       "\n",
       "    .dataframe thead th {\n",
       "        text-align: right;\n",
       "    }\n",
       "</style>\n",
       "<table border=\"1\" class=\"dataframe\">\n",
       "  <thead>\n",
       "    <tr style=\"text-align: right;\">\n",
       "      <th></th>\n",
       "      <th>n_estimators</th>\n",
       "      <th>f1_score</th>\n",
       "      <th>auc_roc</th>\n",
       "    </tr>\n",
       "  </thead>\n",
       "  <tbody>\n",
       "    <tr>\n",
       "      <td>83</td>\n",
       "      <td>84</td>\n",
       "      <td>0.573171</td>\n",
       "      <td>0.838054</td>\n",
       "    </tr>\n",
       "  </tbody>\n",
       "</table>\n",
       "</div>"
      ],
      "text/plain": [
       "    n_estimators  f1_score   auc_roc\n",
       "83            84  0.573171  0.838054"
      ]
     },
     "metadata": {},
     "output_type": "display_data"
    }
   ],
   "source": [
    "col = ['n_estimators', 'f1_score', 'auc_roc']\n",
    "data = []\n",
    "\n",
    "for est in range(1, 100):\n",
    "    model = RandomForestClassifier(random_state=12345, n_estimators=est, class_weight='balanced') \n",
    "    model.fit(features_train,target_train) \n",
    "    predictions = model.predict(features_valid)\n",
    "    f1 = f1_score(target_valid, predictions)\n",
    "    probabilities_valid = model.predict_proba(features_valid)\n",
    "    probabilities_one_valid = probabilities_valid[:, 1]\n",
    "    auc_roc = roc_auc_score(target_valid, probabilities_one_valid)\n",
    "    data.append([est, f1, auc_roc])\n",
    "table = pd.DataFrame(data = data, columns=col)\n",
    "display(table[table['f1_score']==table['f1_score'].max()]) \n",
    "display(table[table['auc_roc']==table['auc_roc'].max()])"
   ]
  },
  {
   "cell_type": "markdown",
   "metadata": {},
   "source": [
    "Как видим, взвешивание классов совершенно изменило результаты. Теперь лучши показатели метрик достигаются при совершенно других величинах параметра n_estimators(количество деревьев в лесу):\n",
    "* максимальное значение F1-меры: 0.59, при n_estimators = 8 (AUC-ROC=0.806)\n",
    "* максимальное значение метрики AUC-ROC: 0.838, при  n_estimators = 84(F1-мера = 0.573)"
   ]
  },
  {
   "cell_type": "markdown",
   "metadata": {},
   "source": [
    "**Изменение порога классификации**"
   ]
  },
  {
   "cell_type": "markdown",
   "metadata": {},
   "source": [
    "Далее рассмотрим такой вид борьбы с дисбалансом, как изменение порога классификации. \n",
    "Посмотрим, как меняются показатели  F1-меры и метрики AUC-ROC с изменением значения порога от 0 до 1 для модели логистической регрессии:"
   ]
  },
  {
   "cell_type": "code",
   "execution_count": 23,
   "metadata": {},
   "outputs": [
    {
     "name": "stderr",
     "output_type": "stream",
     "text": [
      "/opt/conda/lib/python3.7/site-packages/sklearn/metrics/classification.py:1437: UndefinedMetricWarning: F-score is ill-defined and being set to 0.0 due to no predicted samples.\n",
      "  'precision', 'predicted', average, warn_for)\n",
      "/opt/conda/lib/python3.7/site-packages/sklearn/metrics/classification.py:1437: UndefinedMetricWarning: F-score is ill-defined and being set to 0.0 due to no predicted samples.\n",
      "  'precision', 'predicted', average, warn_for)\n",
      "/opt/conda/lib/python3.7/site-packages/sklearn/metrics/classification.py:1437: UndefinedMetricWarning: F-score is ill-defined and being set to 0.0 due to no predicted samples.\n",
      "  'precision', 'predicted', average, warn_for)\n"
     ]
    },
    {
     "data": {
      "text/html": [
       "<div>\n",
       "<style scoped>\n",
       "    .dataframe tbody tr th:only-of-type {\n",
       "        vertical-align: middle;\n",
       "    }\n",
       "\n",
       "    .dataframe tbody tr th {\n",
       "        vertical-align: top;\n",
       "    }\n",
       "\n",
       "    .dataframe thead th {\n",
       "        text-align: right;\n",
       "    }\n",
       "</style>\n",
       "<table border=\"1\" class=\"dataframe\">\n",
       "  <thead>\n",
       "    <tr style=\"text-align: right;\">\n",
       "      <th></th>\n",
       "      <th>порог</th>\n",
       "      <th>f1_score</th>\n",
       "      <th>auc_roc</th>\n",
       "    </tr>\n",
       "  </thead>\n",
       "  <tbody>\n",
       "    <tr>\n",
       "      <td>13</td>\n",
       "      <td>0.26</td>\n",
       "      <td>0.502033</td>\n",
       "      <td>0.758546</td>\n",
       "    </tr>\n",
       "  </tbody>\n",
       "</table>\n",
       "</div>"
      ],
      "text/plain": [
       "    порог  f1_score   auc_roc\n",
       "13   0.26  0.502033  0.758546"
      ]
     },
     "metadata": {},
     "output_type": "display_data"
    },
    {
     "data": {
      "text/html": [
       "<div>\n",
       "<style scoped>\n",
       "    .dataframe tbody tr th:only-of-type {\n",
       "        vertical-align: middle;\n",
       "    }\n",
       "\n",
       "    .dataframe tbody tr th {\n",
       "        vertical-align: top;\n",
       "    }\n",
       "\n",
       "    .dataframe thead th {\n",
       "        text-align: right;\n",
       "    }\n",
       "</style>\n",
       "<table border=\"1\" class=\"dataframe\">\n",
       "  <thead>\n",
       "    <tr style=\"text-align: right;\">\n",
       "      <th></th>\n",
       "      <th>порог</th>\n",
       "      <th>f1_score</th>\n",
       "      <th>auc_roc</th>\n",
       "    </tr>\n",
       "  </thead>\n",
       "  <tbody>\n",
       "    <tr>\n",
       "      <td>0</td>\n",
       "      <td>0.00</td>\n",
       "      <td>0.345740</td>\n",
       "      <td>0.758546</td>\n",
       "    </tr>\n",
       "    <tr>\n",
       "      <td>1</td>\n",
       "      <td>0.02</td>\n",
       "      <td>0.348479</td>\n",
       "      <td>0.758546</td>\n",
       "    </tr>\n",
       "    <tr>\n",
       "      <td>2</td>\n",
       "      <td>0.04</td>\n",
       "      <td>0.368491</td>\n",
       "      <td>0.758546</td>\n",
       "    </tr>\n",
       "    <tr>\n",
       "      <td>3</td>\n",
       "      <td>0.06</td>\n",
       "      <td>0.390315</td>\n",
       "      <td>0.758546</td>\n",
       "    </tr>\n",
       "    <tr>\n",
       "      <td>4</td>\n",
       "      <td>0.08</td>\n",
       "      <td>0.403536</td>\n",
       "      <td>0.758546</td>\n",
       "    </tr>\n",
       "  </tbody>\n",
       "</table>\n",
       "</div>"
      ],
      "text/plain": [
       "   порог  f1_score   auc_roc\n",
       "0   0.00  0.345740  0.758546\n",
       "1   0.02  0.348479  0.758546\n",
       "2   0.04  0.368491  0.758546\n",
       "3   0.06  0.390315  0.758546\n",
       "4   0.08  0.403536  0.758546"
      ]
     },
     "metadata": {},
     "output_type": "display_data"
    }
   ],
   "source": [
    "model = LogisticRegression(random_state=12345, solver='liblinear')\n",
    "model.fit(features_train, target_train)\n",
    "probabilities_valid = model.predict_proba(features_valid)\n",
    "probabilities_one_valid = probabilities_valid[:, 1]\n",
    "\n",
    "col = ['порог', 'f1_score', 'auc_roc']\n",
    "data = []\n",
    "for threshold in np.arange(0, 1, 0.02):\n",
    "    predicted_valid = probabilities_one_valid > threshold\n",
    "    valid_f1_score = f1_score(target_valid, predicted_valid )\n",
    "    auc_roc = roc_auc_score(target_valid, probabilities_one_valid)\n",
    "    data.append([threshold, valid_f1_score, auc_roc])\n",
    "table = pd.DataFrame(data = data, columns=col)\n",
    "display(table[table['f1_score']==table['f1_score'].max()]) \n",
    "display(table[table['auc_roc']==table['auc_roc'].max()].head())"
   ]
  },
  {
   "cell_type": "markdown",
   "metadata": {},
   "source": [
    "Максимально значение F1-меры в 0.502 достишается при порог = 0.26. Метрика AUC-ROC равна 0.758."
   ]
  },
  {
   "cell_type": "markdown",
   "metadata": {},
   "source": [
    "Теперь проделаем то же самое с моделью решающего дерева. Из предыдущего пункта мы выяснили, что лучшие показатели показывает модель, у которой глубина равна 5. Аналогично модели логистической регрессии, выведем максимальные значения показателей f1_score, auc_roc, меняя величину порога:"
   ]
  },
  {
   "cell_type": "code",
   "execution_count": 24,
   "metadata": {
    "scrolled": true
   },
   "outputs": [
    {
     "data": {
      "text/html": [
       "<div>\n",
       "<style scoped>\n",
       "    .dataframe tbody tr th:only-of-type {\n",
       "        vertical-align: middle;\n",
       "    }\n",
       "\n",
       "    .dataframe tbody tr th {\n",
       "        vertical-align: top;\n",
       "    }\n",
       "\n",
       "    .dataframe thead th {\n",
       "        text-align: right;\n",
       "    }\n",
       "</style>\n",
       "<table border=\"1\" class=\"dataframe\">\n",
       "  <thead>\n",
       "    <tr style=\"text-align: right;\">\n",
       "      <th></th>\n",
       "      <th>порог</th>\n",
       "      <th>f1_score</th>\n",
       "      <th>auc_roc</th>\n",
       "    </tr>\n",
       "  </thead>\n",
       "  <tbody>\n",
       "    <tr>\n",
       "      <td>29</td>\n",
       "      <td>0.58</td>\n",
       "      <td>0.6082</td>\n",
       "      <td>0.831024</td>\n",
       "    </tr>\n",
       "    <tr>\n",
       "      <td>30</td>\n",
       "      <td>0.60</td>\n",
       "      <td>0.6082</td>\n",
       "      <td>0.831024</td>\n",
       "    </tr>\n",
       "    <tr>\n",
       "      <td>31</td>\n",
       "      <td>0.62</td>\n",
       "      <td>0.6082</td>\n",
       "      <td>0.831024</td>\n",
       "    </tr>\n",
       "    <tr>\n",
       "      <td>32</td>\n",
       "      <td>0.64</td>\n",
       "      <td>0.6082</td>\n",
       "      <td>0.831024</td>\n",
       "    </tr>\n",
       "    <tr>\n",
       "      <td>33</td>\n",
       "      <td>0.66</td>\n",
       "      <td>0.6082</td>\n",
       "      <td>0.831024</td>\n",
       "    </tr>\n",
       "  </tbody>\n",
       "</table>\n",
       "</div>"
      ],
      "text/plain": [
       "    порог  f1_score   auc_roc\n",
       "29   0.58    0.6082  0.831024\n",
       "30   0.60    0.6082  0.831024\n",
       "31   0.62    0.6082  0.831024\n",
       "32   0.64    0.6082  0.831024\n",
       "33   0.66    0.6082  0.831024"
      ]
     },
     "metadata": {},
     "output_type": "display_data"
    },
    {
     "data": {
      "text/html": [
       "<div>\n",
       "<style scoped>\n",
       "    .dataframe tbody tr th:only-of-type {\n",
       "        vertical-align: middle;\n",
       "    }\n",
       "\n",
       "    .dataframe tbody tr th {\n",
       "        vertical-align: top;\n",
       "    }\n",
       "\n",
       "    .dataframe thead th {\n",
       "        text-align: right;\n",
       "    }\n",
       "</style>\n",
       "<table border=\"1\" class=\"dataframe\">\n",
       "  <thead>\n",
       "    <tr style=\"text-align: right;\">\n",
       "      <th></th>\n",
       "      <th>порог</th>\n",
       "      <th>f1_score</th>\n",
       "      <th>auc_roc</th>\n",
       "    </tr>\n",
       "  </thead>\n",
       "  <tbody>\n",
       "    <tr>\n",
       "      <td>0</td>\n",
       "      <td>0.00</td>\n",
       "      <td>0.344513</td>\n",
       "      <td>0.831024</td>\n",
       "    </tr>\n",
       "    <tr>\n",
       "      <td>1</td>\n",
       "      <td>0.02</td>\n",
       "      <td>0.344513</td>\n",
       "      <td>0.831024</td>\n",
       "    </tr>\n",
       "    <tr>\n",
       "      <td>2</td>\n",
       "      <td>0.04</td>\n",
       "      <td>0.382959</td>\n",
       "      <td>0.831024</td>\n",
       "    </tr>\n",
       "    <tr>\n",
       "      <td>3</td>\n",
       "      <td>0.06</td>\n",
       "      <td>0.382959</td>\n",
       "      <td>0.831024</td>\n",
       "    </tr>\n",
       "    <tr>\n",
       "      <td>4</td>\n",
       "      <td>0.08</td>\n",
       "      <td>0.382959</td>\n",
       "      <td>0.831024</td>\n",
       "    </tr>\n",
       "  </tbody>\n",
       "</table>\n",
       "</div>"
      ],
      "text/plain": [
       "   порог  f1_score   auc_roc\n",
       "0   0.00  0.344513  0.831024\n",
       "1   0.02  0.344513  0.831024\n",
       "2   0.04  0.382959  0.831024\n",
       "3   0.06  0.382959  0.831024\n",
       "4   0.08  0.382959  0.831024"
      ]
     },
     "metadata": {},
     "output_type": "display_data"
    }
   ],
   "source": [
    "model =  DecisionTreeClassifier(random_state=12345, max_depth=5, class_weight='balanced')\n",
    "model.fit(features_train, target_train)\n",
    "probabilities_valid = model.predict_proba(features_valid)\n",
    "probabilities_one_valid = probabilities_valid[:, 1]\n",
    "\n",
    "col = ['порог', 'f1_score', 'auc_roc']\n",
    "data = []\n",
    "for threshold in np.arange(0, 1, 0.02):\n",
    "    predicted_valid = probabilities_one_valid > threshold\n",
    "    valid_f1_score = f1_score(target_valid, predicted_valid )\n",
    "    auc_roc = roc_auc_score(target_valid, probabilities_one_valid)\n",
    "    data.append([threshold, valid_f1_score, auc_roc])\n",
    "table = pd.DataFrame(data = data, columns=col)\n",
    "display(table[table['f1_score']==table['f1_score'].max()]) \n",
    "display(table[table['auc_roc']==table['auc_roc'].max()].head())"
   ]
  },
  {
   "cell_type": "markdown",
   "metadata": {},
   "source": [
    "Как видим, максимальное значение F1-меры (0.6082) достигается при нескольких величинах порога. Примем за оптимальную наиболее близкую к величине по умолчанию (0.5) - 0.58.\n",
    "Значение метрики AUC-ROC при этом также максимальное и составляет 0.831."
   ]
  },
  {
   "cell_type": "markdown",
   "metadata": {},
   "source": [
    "Теперь узнаем, как изменятся результаты, если поменять значение порога на модели случайного леса. Единственная модель, у которой F1-мера отвечала требованиям поставленной задачи, была модель с значением n_estimators = 9 (f1_score = 0.59, auc_roc = 0.806). Используем это значение гиперпараметра дальше:"
   ]
  },
  {
   "cell_type": "code",
   "execution_count": 25,
   "metadata": {},
   "outputs": [
    {
     "data": {
      "text/html": [
       "<div>\n",
       "<style scoped>\n",
       "    .dataframe tbody tr th:only-of-type {\n",
       "        vertical-align: middle;\n",
       "    }\n",
       "\n",
       "    .dataframe tbody tr th {\n",
       "        vertical-align: top;\n",
       "    }\n",
       "\n",
       "    .dataframe thead th {\n",
       "        text-align: right;\n",
       "    }\n",
       "</style>\n",
       "<table border=\"1\" class=\"dataframe\">\n",
       "  <thead>\n",
       "    <tr style=\"text-align: right;\">\n",
       "      <th></th>\n",
       "      <th>порог</th>\n",
       "      <th>f1_score</th>\n",
       "      <th>auc_roc</th>\n",
       "    </tr>\n",
       "  </thead>\n",
       "  <tbody>\n",
       "    <tr>\n",
       "      <td>23</td>\n",
       "      <td>0.46</td>\n",
       "      <td>0.590585</td>\n",
       "      <td>0.806188</td>\n",
       "    </tr>\n",
       "    <tr>\n",
       "      <td>24</td>\n",
       "      <td>0.48</td>\n",
       "      <td>0.590585</td>\n",
       "      <td>0.806188</td>\n",
       "    </tr>\n",
       "    <tr>\n",
       "      <td>25</td>\n",
       "      <td>0.50</td>\n",
       "      <td>0.590585</td>\n",
       "      <td>0.806188</td>\n",
       "    </tr>\n",
       "    <tr>\n",
       "      <td>26</td>\n",
       "      <td>0.52</td>\n",
       "      <td>0.590585</td>\n",
       "      <td>0.806188</td>\n",
       "    </tr>\n",
       "    <tr>\n",
       "      <td>27</td>\n",
       "      <td>0.54</td>\n",
       "      <td>0.590585</td>\n",
       "      <td>0.806188</td>\n",
       "    </tr>\n",
       "  </tbody>\n",
       "</table>\n",
       "</div>"
      ],
      "text/plain": [
       "    порог  f1_score   auc_roc\n",
       "23   0.46  0.590585  0.806188\n",
       "24   0.48  0.590585  0.806188\n",
       "25   0.50  0.590585  0.806188\n",
       "26   0.52  0.590585  0.806188\n",
       "27   0.54  0.590585  0.806188"
      ]
     },
     "metadata": {},
     "output_type": "display_data"
    },
    {
     "data": {
      "text/html": [
       "<div>\n",
       "<style scoped>\n",
       "    .dataframe tbody tr th:only-of-type {\n",
       "        vertical-align: middle;\n",
       "    }\n",
       "\n",
       "    .dataframe tbody tr th {\n",
       "        vertical-align: top;\n",
       "    }\n",
       "\n",
       "    .dataframe thead th {\n",
       "        text-align: right;\n",
       "    }\n",
       "</style>\n",
       "<table border=\"1\" class=\"dataframe\">\n",
       "  <thead>\n",
       "    <tr style=\"text-align: right;\">\n",
       "      <th></th>\n",
       "      <th>порог</th>\n",
       "      <th>f1_score</th>\n",
       "      <th>auc_roc</th>\n",
       "    </tr>\n",
       "  </thead>\n",
       "  <tbody>\n",
       "    <tr>\n",
       "      <td>0</td>\n",
       "      <td>0.00</td>\n",
       "      <td>0.444851</td>\n",
       "      <td>0.806188</td>\n",
       "    </tr>\n",
       "    <tr>\n",
       "      <td>1</td>\n",
       "      <td>0.02</td>\n",
       "      <td>0.444851</td>\n",
       "      <td>0.806188</td>\n",
       "    </tr>\n",
       "    <tr>\n",
       "      <td>2</td>\n",
       "      <td>0.04</td>\n",
       "      <td>0.444851</td>\n",
       "      <td>0.806188</td>\n",
       "    </tr>\n",
       "    <tr>\n",
       "      <td>3</td>\n",
       "      <td>0.06</td>\n",
       "      <td>0.444851</td>\n",
       "      <td>0.806188</td>\n",
       "    </tr>\n",
       "    <tr>\n",
       "      <td>4</td>\n",
       "      <td>0.08</td>\n",
       "      <td>0.444851</td>\n",
       "      <td>0.806188</td>\n",
       "    </tr>\n",
       "  </tbody>\n",
       "</table>\n",
       "</div>"
      ],
      "text/plain": [
       "   порог  f1_score   auc_roc\n",
       "0   0.00  0.444851  0.806188\n",
       "1   0.02  0.444851  0.806188\n",
       "2   0.04  0.444851  0.806188\n",
       "3   0.06  0.444851  0.806188\n",
       "4   0.08  0.444851  0.806188"
      ]
     },
     "metadata": {},
     "output_type": "display_data"
    }
   ],
   "source": [
    "model = RandomForestClassifier(random_state=12345, n_estimators=9, class_weight='balanced') \n",
    "model.fit(features_train, target_train)\n",
    "probabilities_valid = model.predict_proba(features_valid)\n",
    "probabilities_one_valid = probabilities_valid[:, 1]\n",
    "\n",
    "col = ['порог', 'f1_score', 'auc_roc']\n",
    "data = []\n",
    "for threshold in np.arange(0, 1, 0.02):\n",
    "    predicted_valid = probabilities_one_valid > threshold\n",
    "    valid_f1_score = f1_score(target_valid, predicted_valid )\n",
    "    auc_roc = roc_auc_score(target_valid, probabilities_one_valid)\n",
    "    data.append([threshold, valid_f1_score, auc_roc])\n",
    "table = pd.DataFrame(data = data, columns=col)\n",
    "display(table[table['f1_score']==table['f1_score'].max()]) \n",
    "display(table[table['auc_roc']==table['auc_roc'].max()].head())"
   ]
  },
  {
   "cell_type": "markdown",
   "metadata": {},
   "source": [
    "Как видим, максимальное показатели достигается при нескольких величинах порога. При этом, они на таком же уровне, как и при методе взвешивания классов (без указания  class_weight='balanced' при создании модели максимальная величина наших метрик  при изменении порога меньше, чем 0.590 и 0.806).\n"
   ]
  },
  {
   "cell_type": "markdown",
   "metadata": {},
   "source": [
    "### Вывод\n",
    "\n",
    "В этой части работы мы применили несколько методов борьбы с дисбалансом классов. Метод взвешивания классов дал следующие результаты:\n",
    "\n",
    "* логистическая регрессия: F1-мера = 0.488, AUC-ROC = 0.763\n",
    "* решающее дерево: F1-мера = 0.596 AUC-ROC = 0.831, при  max_depth = 5\n",
    "* случайный лес: максимальная F1-мера: 0.59, при n_estimators = 8 (AUC-ROC=0.806), максимальная метрика AUC-ROC = 0.838, при n_estimators = 84(F1-мера = 0.573)\n",
    "\n",
    "Метод изменения порога классификации дал следующие результаты:\n",
    "\n",
    "* логистическая регрессия: максимальная F1-мера = 0.502, AUC-ROC = 0.758  при пороге = 0.26\n",
    "* решающее дерево: F1-мера = 0.6082, AUC-ROC = 0.831 при пороге 0.58 \n",
    "* случайный лес: при изменении порога показатели не улучшились и остались на уровне метода взвешивания классов.\n",
    "\n",
    "Наилучший результат показала модель решающего дерева, при значении гиперпараметра max_depth = 5, указании атрибута class_weight='balanced' и изменении порога, равным 0.58."
   ]
  },
  {
   "cell_type": "markdown",
   "metadata": {},
   "source": [
    "## Тестирование модели"
   ]
  },
  {
   "cell_type": "markdown",
   "metadata": {},
   "source": [
    "Протестируем нашу модель на тестовой выборке:"
   ]
  },
  {
   "cell_type": "code",
   "execution_count": 26,
   "metadata": {},
   "outputs": [
    {
     "name": "stdout",
     "output_type": "stream",
     "text": [
      "Валидационная выборка:\n",
      "F1-мера: 0.6082004555808656\n",
      "AUC-ROC: 0.8310244134068074\n",
      "Тестовая выборка:\n",
      "F1-мера: 0.6004464285714286\n",
      "AUC-ROC: 0.8355347481752318\n"
     ]
    },
    {
     "data": {
      "image/png": "[encoded data removed]",
      "text/plain": [
       "<Figure size 432x288 with 1 Axes>"
      ]
     },
     "metadata": {
      "needs_background": "light"
     },
     "output_type": "display_data"
    }
   ],
   "source": [
    "model =  DecisionTreeClassifier(random_state=12345, max_depth=5, class_weight='balanced')\n",
    "model.fit(features_train, target_train)\n",
    "probabilities_valid = model.predict_proba(features_valid)\n",
    "probabilities_one_valid = probabilities_valid[:, 1]\n",
    "\n",
    "threshold = 0.58\n",
    "predicted_valid = probabilities_one_valid > threshold\n",
    "valid_f1_score = f1_score(target_valid, predicted_valid )\n",
    "auc_roc = roc_auc_score(target_valid, probabilities_one_valid)\n",
    "print('Валидационная выборка:')\n",
    "print('F1-мера:', valid_f1_score)\n",
    "print('AUC-ROC:',auc_roc)\n",
    "probabilities_test = model.predict_proba(features_test)\n",
    "probabilities_one_test = probabilities_test[:, 1]\n",
    "predicted_test = probabilities_one_test > threshold\n",
    "test_f1_score = f1_score(target_test, predicted_test )\n",
    "auc_roc_test = roc_auc_score(target_test, probabilities_one_test)\n",
    "print('Тестовая выборка:')\n",
    "print('F1-мера:',test_f1_score)\n",
    "print('AUC-ROC:',auc_roc_test)\n",
    "\n",
    "\n",
    "fpr, tpr, thresholds = roc_curve(target_valid, probabilities_one_valid)\n",
    "\n",
    "plt.figure()\n",
    "plt.plot(fpr, tpr)\n",
    "plt.plot([0, 1], [0, 1], linestyle='--')\n",
    "plt.xlim([0.0, 1.0])\n",
    "plt.ylim([0.0, 1.0])\n",
    "plt.xlabel('False Positive Rate')\n",
    "plt.ylabel('True Positive Rate')\n",
    "plt.title('ROC-кривая')\n",
    "plt.show()"
   ]
  },
  {
   "cell_type": "markdown",
   "metadata": {},
   "source": [
    "Теперь проверим на адекватность, выбранную нами модель. Для этого посмотрим, как справится с задачей фиктивный классификатор DummyClassifier (импортировали [ранее](#import)). Он покажет вероятность успеха, даже если просто \"угадать\". Таким образом, чтобы признать модель адекватной, нужно, чтобы показатели метрик были выше, чем те, которые получатся у фиктивного классификатора. \n",
    "Так как от значения параметра `strategy` может поменяться результат, переберем их, и для сравнения будем учитывать лучший результат: "
   ]
  },
  {
   "cell_type": "code",
   "execution_count": 27,
   "metadata": {
    "scrolled": false
   },
   "outputs": [
    {
     "name": "stderr",
     "output_type": "stream",
     "text": [
      "/opt/conda/lib/python3.7/site-packages/sklearn/metrics/classification.py:1437: UndefinedMetricWarning: F-score is ill-defined and being set to 0.0 due to no predicted samples.\n",
      "  'precision', 'predicted', average, warn_for)\n",
      "/opt/conda/lib/python3.7/site-packages/sklearn/metrics/classification.py:1437: UndefinedMetricWarning: F-score is ill-defined and being set to 0.0 due to no predicted samples.\n",
      "  'precision', 'predicted', average, warn_for)\n",
      "/opt/conda/lib/python3.7/site-packages/sklearn/metrics/classification.py:1437: UndefinedMetricWarning: F-score is ill-defined and being set to 0.0 due to no predicted samples.\n",
      "  'precision', 'predicted', average, warn_for)\n",
      "/opt/conda/lib/python3.7/site-packages/sklearn/metrics/classification.py:1437: UndefinedMetricWarning: F-score is ill-defined and being set to 0.0 due to no predicted samples.\n",
      "  'precision', 'predicted', average, warn_for)\n"
     ]
    },
    {
     "data": {
      "text/html": [
       "<div>\n",
       "<style scoped>\n",
       "    .dataframe tbody tr th:only-of-type {\n",
       "        vertical-align: middle;\n",
       "    }\n",
       "\n",
       "    .dataframe tbody tr th {\n",
       "        vertical-align: top;\n",
       "    }\n",
       "\n",
       "    .dataframe thead th {\n",
       "        text-align: right;\n",
       "    }\n",
       "</style>\n",
       "<table border=\"1\" class=\"dataframe\">\n",
       "  <thead>\n",
       "    <tr style=\"text-align: right;\">\n",
       "      <th></th>\n",
       "      <th>name</th>\n",
       "      <th>f1_score_valid</th>\n",
       "      <th>auc_roc_valid</th>\n",
       "      <th>f1_score_test</th>\n",
       "      <th>auc_roc_test</th>\n",
       "    </tr>\n",
       "  </thead>\n",
       "  <tbody>\n",
       "    <tr>\n",
       "      <td>3</td>\n",
       "      <td>uniform</td>\n",
       "      <td>0.29073</td>\n",
       "      <td>0.495079</td>\n",
       "      <td>0.300142</td>\n",
       "      <td>0.50464</td>\n",
       "    </tr>\n",
       "  </tbody>\n",
       "</table>\n",
       "</div>"
      ],
      "text/plain": [
       "      name  f1_score_valid  auc_roc_valid  f1_score_test  auc_roc_test\n",
       "3  uniform         0.29073       0.495079       0.300142       0.50464"
      ]
     },
     "metadata": {},
     "output_type": "display_data"
    },
    {
     "data": {
      "text/html": [
       "<div>\n",
       "<style scoped>\n",
       "    .dataframe tbody tr th:only-of-type {\n",
       "        vertical-align: middle;\n",
       "    }\n",
       "\n",
       "    .dataframe tbody tr th {\n",
       "        vertical-align: top;\n",
       "    }\n",
       "\n",
       "    .dataframe thead th {\n",
       "        text-align: right;\n",
       "    }\n",
       "</style>\n",
       "<table border=\"1\" class=\"dataframe\">\n",
       "  <thead>\n",
       "    <tr style=\"text-align: right;\">\n",
       "      <th></th>\n",
       "      <th>name</th>\n",
       "      <th>f1_score_valid</th>\n",
       "      <th>auc_roc_valid</th>\n",
       "      <th>f1_score_test</th>\n",
       "      <th>auc_roc_test</th>\n",
       "    </tr>\n",
       "  </thead>\n",
       "  <tbody>\n",
       "    <tr>\n",
       "      <td>3</td>\n",
       "      <td>uniform</td>\n",
       "      <td>0.29073</td>\n",
       "      <td>0.495079</td>\n",
       "      <td>0.300142</td>\n",
       "      <td>0.50464</td>\n",
       "    </tr>\n",
       "  </tbody>\n",
       "</table>\n",
       "</div>"
      ],
      "text/plain": [
       "      name  f1_score_valid  auc_roc_valid  f1_score_test  auc_roc_test\n",
       "3  uniform         0.29073       0.495079       0.300142       0.50464"
      ]
     },
     "metadata": {},
     "output_type": "display_data"
    }
   ],
   "source": [
    "names = ['stratified', 'most_frequent', 'prior', 'uniform']\n",
    "data = []\n",
    "col = ['name', 'f1_score_valid', 'auc_roc_valid', 'f1_score_test', 'auc_roc_test']\n",
    "for name in names:\n",
    "    new_dummy_classifier = DummyClassifier(strategy=name)\n",
    "    new_dummy_classifier.fit(features_train, target_train)\n",
    "\n",
    "    predictions_valid = new_dummy_classifier.predict(features_valid)\n",
    "    valid_accuracy = accuracy_score(target_valid, predictions)\n",
    "    valid_f1_score = f1_score(target_valid, predictions_valid )\n",
    "    auc_roc_valid = roc_auc_score(target_valid, predictions_valid)\n",
    "    test_predictions = new_dummy_classifier.predict(features_test)\n",
    "    test_accuracy = accuracy_score(target_test, test_predictions)\n",
    "    test_f1_score = f1_score(target_test, test_predictions )\n",
    "    auc_roc_test = roc_auc_score(target_test, test_predictions)\n",
    "    data.append([name, valid_f1_score, auc_roc_valid, test_f1_score, auc_roc_test])\n",
    "table = pd.DataFrame(data = data, columns=col)\n",
    "display(table[table['f1_score_test']==table['f1_score_test'].max()]) \n",
    "display(table[table['f1_score_valid']==table['f1_score_valid'].max()].head())\n",
    "\n"
   ]
  },
  {
   "cell_type": "markdown",
   "metadata": {},
   "source": [
    "Как видим, показатели у лучшего (при значении параметра `strategy='uniform' `) из фиктивных классификаторов намного ниже, чем у нашей модели, и находятся на уровне 0.29 для F1-меры, а также 0.517 - для метрики AUC-ROC."
   ]
  },
  {
   "cell_type": "markdown",
   "metadata": {},
   "source": [
    "### Вывод\n",
    "\n",
    "В качестве лучшей модели была выбрана модель решающего дерева при значении гиперпараметра max_depth = 5, указании атрибута class_weight='balanced' и изменении порога, равным 0.58.\n",
    "\n",
    "На валидационной выборке модель следующие результаты:\n",
    "* F1-мера: 0.608\n",
    "* AUC-ROC: 0.831\n",
    "\n",
    "На тестовой выборке модель следующие результаты:\n",
    "* F1-мера: 0.60 (уменьшилась на 0.008)\n",
    "* AUC-ROC: 0.836 (увеличилась на 0.005)\n",
    "\n",
    "Проверку на адекватность модель выдержала. Лучшие (F1-мера:0.29, AUC-ROC: 0.517) показатели фиктивного классификатора значительно ниже.\n",
    "\n",
    "Требование касательно значения F1-меры (нужно довести метрику до 0.59) выполнено - **значение F1-меры нашей модели равно 0.6 на тестовой выборке.**\n",
    "\n"
   ]
  }
 ],
 "metadata": {
  "ExecuteTimeLog": [
   {
    "duration": 724,
    "start_time": "2021-10-29T20:24:18.908Z"
   },
   {
    "duration": 36,
    "start_time": "2021-10-29T20:24:38.502Z"
   },
   {
    "duration": 29,
    "start_time": "2021-10-29T20:24:43.088Z"
   },
   {
    "duration": 60,
    "start_time": "2021-10-29T20:25:19.605Z"
   },
   {
    "duration": 9,
    "start_time": "2021-10-29T20:27:10.071Z"
   },
   {
    "duration": 9,
    "start_time": "2021-10-29T20:27:20.059Z"
   },
   {
    "duration": 12,
    "start_time": "2021-10-29T20:28:09.864Z"
   },
   {
    "duration": 8,
    "start_time": "2021-10-29T20:32:08.241Z"
   },
   {
    "duration": 7,
    "start_time": "2021-10-29T20:32:12.273Z"
   },
   {
    "duration": 9,
    "start_time": "2021-10-29T20:32:27.965Z"
   },
   {
    "duration": 48,
    "start_time": "2021-10-29T23:50:19.687Z"
   },
   {
    "duration": 8,
    "start_time": "2021-10-30T00:00:36.395Z"
   },
   {
    "duration": 35,
    "start_time": "2021-10-30T00:01:15.395Z"
   },
   {
    "duration": 35,
    "start_time": "2021-10-30T00:03:31.699Z"
   },
   {
    "duration": 380,
    "start_time": "2021-10-30T01:45:12.696Z"
   },
   {
    "duration": 300,
    "start_time": "2021-10-30T01:45:29.407Z"
   },
   {
    "duration": 297,
    "start_time": "2021-10-30T01:45:51.829Z"
   },
   {
    "duration": 6,
    "start_time": "2021-10-30T01:46:49.460Z"
   },
   {
    "duration": 57,
    "start_time": "2021-10-30T01:46:53.410Z"
   },
   {
    "duration": 113,
    "start_time": "2021-10-30T01:50:11.946Z"
   },
   {
    "duration": 92,
    "start_time": "2021-10-30T01:50:20.652Z"
   },
   {
    "duration": 103,
    "start_time": "2021-10-30T01:50:29.867Z"
   },
   {
    "duration": 280,
    "start_time": "2021-10-30T01:50:48.399Z"
   },
   {
    "duration": 287,
    "start_time": "2021-10-30T01:51:00.372Z"
   },
   {
    "duration": 304,
    "start_time": "2021-10-30T01:51:20.676Z"
   },
   {
    "duration": 279,
    "start_time": "2021-10-30T01:51:49.913Z"
   },
   {
    "duration": 4,
    "start_time": "2021-10-30T01:52:02.880Z"
   },
   {
    "duration": 53,
    "start_time": "2021-10-30T01:52:02.886Z"
   },
   {
    "duration": 297,
    "start_time": "2021-10-30T01:52:07.457Z"
   },
   {
    "duration": 6,
    "start_time": "2021-10-30T01:52:22.454Z"
   },
   {
    "duration": 50,
    "start_time": "2021-10-30T01:52:25.424Z"
   },
   {
    "duration": 15,
    "start_time": "2021-10-30T01:53:04.309Z"
   },
   {
    "duration": 19,
    "start_time": "2021-10-30T02:19:39.560Z"
   },
   {
    "duration": 16,
    "start_time": "2021-10-30T02:19:45.252Z"
   },
   {
    "duration": 62,
    "start_time": "2021-10-30T02:20:20.021Z"
   },
   {
    "duration": 552,
    "start_time": "2021-10-31T00:43:23.227Z"
   },
   {
    "duration": 48,
    "start_time": "2021-10-31T00:43:23.782Z"
   },
   {
    "duration": 5,
    "start_time": "2021-10-31T00:43:23.833Z"
   },
   {
    "duration": 17,
    "start_time": "2021-10-31T00:43:23.841Z"
   },
   {
    "duration": 38,
    "start_time": "2021-10-31T00:43:23.860Z"
   },
   {
    "duration": 19,
    "start_time": "2021-10-31T00:43:23.900Z"
   },
   {
    "duration": 79,
    "start_time": "2021-10-31T00:43:23.922Z"
   },
   {
    "duration": 3,
    "start_time": "2021-10-31T00:43:24.004Z"
   },
   {
    "duration": 20,
    "start_time": "2021-10-31T00:43:24.009Z"
   },
   {
    "duration": 335,
    "start_time": "2021-10-31T00:45:22.331Z"
   },
   {
    "duration": 6,
    "start_time": "2021-10-31T00:45:39.336Z"
   },
   {
    "duration": 6,
    "start_time": "2021-10-31T00:45:49.413Z"
   },
   {
    "duration": 16,
    "start_time": "2021-10-31T01:59:47.654Z"
   },
   {
    "duration": 7,
    "start_time": "2021-10-31T02:01:25.117Z"
   },
   {
    "duration": 13,
    "start_time": "2021-10-31T02:03:49.440Z"
   },
   {
    "duration": 304,
    "start_time": "2021-10-31T02:12:04.008Z"
   },
   {
    "duration": 22,
    "start_time": "2021-10-31T02:12:11.548Z"
   },
   {
    "duration": 49,
    "start_time": "2021-10-31T02:12:11.573Z"
   },
   {
    "duration": 6,
    "start_time": "2021-10-31T02:12:11.625Z"
   },
   {
    "duration": 22,
    "start_time": "2021-10-31T02:12:11.633Z"
   },
   {
    "duration": 39,
    "start_time": "2021-10-31T02:12:11.658Z"
   },
   {
    "duration": 18,
    "start_time": "2021-10-31T02:12:11.700Z"
   },
   {
    "duration": 95,
    "start_time": "2021-10-31T02:12:11.721Z"
   },
   {
    "duration": 4,
    "start_time": "2021-10-31T02:12:11.819Z"
   },
   {
    "duration": 17,
    "start_time": "2021-10-31T02:12:11.828Z"
   },
   {
    "duration": 34,
    "start_time": "2021-10-31T02:12:11.848Z"
   },
   {
    "duration": 16,
    "start_time": "2021-10-31T02:12:11.885Z"
   },
   {
    "duration": 300,
    "start_time": "2021-10-31T02:12:27.787Z"
   },
   {
    "duration": 304,
    "start_time": "2021-10-31T02:13:20.222Z"
   },
   {
    "duration": 306,
    "start_time": "2021-10-31T02:13:34.978Z"
   },
   {
    "duration": 87,
    "start_time": "2021-10-31T02:15:06.073Z"
   },
   {
    "duration": 7,
    "start_time": "2021-10-31T02:15:18.820Z"
   },
   {
    "duration": 16,
    "start_time": "2021-10-31T02:15:23.470Z"
   },
   {
    "duration": 6,
    "start_time": "2021-10-31T02:19:07.450Z"
   },
   {
    "duration": 12,
    "start_time": "2021-10-31T02:19:25.591Z"
   },
   {
    "duration": 4,
    "start_time": "2021-10-31T02:21:51.040Z"
   },
   {
    "duration": 52,
    "start_time": "2021-10-31T02:21:51.046Z"
   },
   {
    "duration": 6,
    "start_time": "2021-10-31T02:21:51.101Z"
   },
   {
    "duration": 8,
    "start_time": "2021-10-31T02:21:51.109Z"
   },
   {
    "duration": 18,
    "start_time": "2021-10-31T02:21:51.119Z"
   },
   {
    "duration": 50,
    "start_time": "2021-10-31T02:21:51.139Z"
   },
   {
    "duration": 16,
    "start_time": "2021-10-31T02:21:51.191Z"
   },
   {
    "duration": 76,
    "start_time": "2021-10-31T02:21:51.210Z"
   },
   {
    "duration": 3,
    "start_time": "2021-10-31T02:21:51.289Z"
   },
   {
    "duration": 15,
    "start_time": "2021-10-31T02:21:51.295Z"
   },
   {
    "duration": 6,
    "start_time": "2021-10-31T02:21:51.313Z"
   },
   {
    "duration": 11,
    "start_time": "2021-10-31T02:21:51.321Z"
   },
   {
    "duration": 300,
    "start_time": "2021-10-31T02:22:04.026Z"
   },
   {
    "duration": 4,
    "start_time": "2021-10-31T02:22:29.945Z"
   },
   {
    "duration": 4,
    "start_time": "2021-10-31T02:22:39.843Z"
   },
   {
    "duration": 51,
    "start_time": "2021-10-31T02:22:39.850Z"
   },
   {
    "duration": 6,
    "start_time": "2021-10-31T02:22:39.904Z"
   },
   {
    "duration": 8,
    "start_time": "2021-10-31T02:22:39.913Z"
   },
   {
    "duration": 18,
    "start_time": "2021-10-31T02:22:39.924Z"
   },
   {
    "duration": 48,
    "start_time": "2021-10-31T02:22:39.944Z"
   },
   {
    "duration": 17,
    "start_time": "2021-10-31T02:22:39.994Z"
   },
   {
    "duration": 81,
    "start_time": "2021-10-31T02:22:40.014Z"
   },
   {
    "duration": 3,
    "start_time": "2021-10-31T02:22:40.099Z"
   },
   {
    "duration": 13,
    "start_time": "2021-10-31T02:22:40.105Z"
   },
   {
    "duration": 7,
    "start_time": "2021-10-31T02:22:40.121Z"
   },
   {
    "duration": 12,
    "start_time": "2021-10-31T02:22:40.130Z"
   },
   {
    "duration": 25,
    "start_time": "2021-10-31T02:22:53.982Z"
   },
   {
    "duration": 7,
    "start_time": "2021-10-31T02:26:11.839Z"
   },
   {
    "duration": 5,
    "start_time": "2021-10-31T02:26:22.468Z"
   },
   {
    "duration": 52,
    "start_time": "2021-10-31T02:26:22.475Z"
   },
   {
    "duration": 5,
    "start_time": "2021-10-31T02:26:22.530Z"
   },
   {
    "duration": 8,
    "start_time": "2021-10-31T02:26:22.538Z"
   },
   {
    "duration": 16,
    "start_time": "2021-10-31T02:26:22.548Z"
   },
   {
    "duration": 32,
    "start_time": "2021-10-31T02:26:22.566Z"
   },
   {
    "duration": 16,
    "start_time": "2021-10-31T02:26:22.600Z"
   },
   {
    "duration": 88,
    "start_time": "2021-10-31T02:26:22.618Z"
   },
   {
    "duration": 3,
    "start_time": "2021-10-31T02:26:22.710Z"
   },
   {
    "duration": 16,
    "start_time": "2021-10-31T02:26:22.715Z"
   },
   {
    "duration": 6,
    "start_time": "2021-10-31T02:26:22.733Z"
   },
   {
    "duration": 11,
    "start_time": "2021-10-31T02:26:22.741Z"
   },
   {
    "duration": 26,
    "start_time": "2021-10-31T02:26:22.783Z"
   },
   {
    "duration": 9,
    "start_time": "2021-10-31T02:31:27.948Z"
   },
   {
    "duration": 101,
    "start_time": "2021-10-31T02:33:41.981Z"
   },
   {
    "duration": 33,
    "start_time": "2021-10-31T02:34:32.182Z"
   },
   {
    "duration": 384,
    "start_time": "2021-11-13T16:28:10.173Z"
   },
   {
    "duration": 1482,
    "start_time": "2021-11-13T16:28:18.350Z"
   },
   {
    "duration": 62,
    "start_time": "2021-11-13T16:28:19.835Z"
   },
   {
    "duration": 8,
    "start_time": "2021-11-13T16:28:19.901Z"
   },
   {
    "duration": 30,
    "start_time": "2021-11-13T16:28:19.911Z"
   },
   {
    "duration": 3,
    "start_time": "2021-11-13T16:28:19.944Z"
   },
   {
    "duration": 51,
    "start_time": "2021-11-13T16:28:19.950Z"
   },
   {
    "duration": 27,
    "start_time": "2021-11-13T16:28:20.004Z"
   },
   {
    "duration": 18,
    "start_time": "2021-11-13T16:28:20.035Z"
   },
   {
    "duration": 70,
    "start_time": "2021-11-13T16:28:20.083Z"
   },
   {
    "duration": 3,
    "start_time": "2021-11-13T16:28:20.156Z"
   },
   {
    "duration": 33,
    "start_time": "2021-11-13T16:28:20.162Z"
   },
   {
    "duration": 9,
    "start_time": "2021-11-13T16:28:20.198Z"
   },
   {
    "duration": 13,
    "start_time": "2021-11-13T16:28:20.212Z"
   },
   {
    "duration": 464,
    "start_time": "2021-11-13T16:28:20.227Z"
   },
   {
    "duration": 4075,
    "start_time": "2021-11-13T16:28:16.620Z"
   },
   {
    "duration": 53,
    "start_time": "2021-11-13T20:49:21.667Z"
   },
   {
    "duration": 118,
    "start_time": "2021-11-13T20:56:13.837Z"
   },
   {
    "duration": 22,
    "start_time": "2021-11-13T20:56:26.007Z"
   },
   {
    "duration": 4,
    "start_time": "2021-11-13T21:45:16.879Z"
   },
   {
    "duration": 50,
    "start_time": "2021-11-13T21:45:16.890Z"
   },
   {
    "duration": 6,
    "start_time": "2021-11-13T21:45:16.943Z"
   },
   {
    "duration": 60,
    "start_time": "2021-11-13T21:45:16.952Z"
   },
   {
    "duration": 344,
    "start_time": "2021-11-13T21:54:19.635Z"
   },
   {
    "duration": 12,
    "start_time": "2021-11-13T21:54:40.766Z"
   },
   {
    "duration": 431,
    "start_time": "2021-11-13T21:55:05.054Z"
   },
   {
    "duration": 7,
    "start_time": "2021-11-13T21:55:09.095Z"
   },
   {
    "duration": 662,
    "start_time": "2021-11-13T21:55:11.301Z"
   },
   {
    "duration": 5,
    "start_time": "2021-11-13T21:55:27.430Z"
   },
   {
    "duration": 12,
    "start_time": "2021-11-13T21:55:31.213Z"
   },
   {
    "duration": 726,
    "start_time": "2021-11-13T21:55:35.893Z"
   },
   {
    "duration": 1224,
    "start_time": "2021-11-13T21:57:16.597Z"
   },
   {
    "duration": 7,
    "start_time": "2021-11-13T21:57:20.023Z"
   },
   {
    "duration": 1217,
    "start_time": "2021-11-13T21:57:22.937Z"
   },
   {
    "duration": 10,
    "start_time": "2021-11-13T21:57:49.069Z"
   },
   {
    "duration": 5,
    "start_time": "2021-11-13T21:58:12.928Z"
   },
   {
    "duration": 11,
    "start_time": "2021-11-13T21:58:14.919Z"
   },
   {
    "duration": 8301,
    "start_time": "2021-11-13T21:58:17.642Z"
   },
   {
    "duration": 5,
    "start_time": "2021-11-13T22:03:22.389Z"
   },
   {
    "duration": 10,
    "start_time": "2021-11-13T22:03:26.176Z"
   },
   {
    "duration": 631,
    "start_time": "2021-11-13T22:03:47.338Z"
   },
   {
    "duration": 5,
    "start_time": "2021-11-13T22:03:57.127Z"
   },
   {
    "duration": 48,
    "start_time": "2021-11-13T22:03:57.140Z"
   },
   {
    "duration": 6,
    "start_time": "2021-11-13T22:03:57.191Z"
   },
   {
    "duration": 55,
    "start_time": "2021-11-13T22:03:57.200Z"
   },
   {
    "duration": 24,
    "start_time": "2021-11-13T22:03:57.258Z"
   },
   {
    "duration": 13,
    "start_time": "2021-11-13T22:03:57.284Z"
   },
   {
    "duration": 8740,
    "start_time": "2021-11-13T22:04:05.084Z"
   },
   {
    "duration": 28,
    "start_time": "2021-11-13T22:05:41.041Z"
   },
   {
    "duration": 11,
    "start_time": "2021-11-13T22:06:37.254Z"
   },
   {
    "duration": 31,
    "start_time": "2021-11-13T22:07:01.112Z"
   },
   {
    "duration": 5,
    "start_time": "2021-11-13T22:07:26.397Z"
   },
   {
    "duration": 49,
    "start_time": "2021-11-13T22:07:26.404Z"
   },
   {
    "duration": 5,
    "start_time": "2021-11-13T22:07:26.455Z"
   },
   {
    "duration": 52,
    "start_time": "2021-11-13T22:07:26.463Z"
   },
   {
    "duration": 5,
    "start_time": "2021-11-13T22:07:26.518Z"
   },
   {
    "duration": 12,
    "start_time": "2021-11-13T22:07:26.525Z"
   },
   {
    "duration": 8316,
    "start_time": "2021-11-13T22:07:26.540Z"
   },
   {
    "duration": 5,
    "start_time": "2021-11-13T22:08:30.549Z"
   },
   {
    "duration": 3444,
    "start_time": "2021-11-13T22:08:34.541Z"
   },
   {
    "duration": 3884,
    "start_time": "2021-11-13T22:08:42.319Z"
   },
   {
    "duration": 7,
    "start_time": "2021-11-13T22:09:35.416Z"
   },
   {
    "duration": 1234,
    "start_time": "2021-11-13T22:10:23.506Z"
   },
   {
    "duration": 5,
    "start_time": "2021-11-13T22:10:29.396Z"
   },
   {
    "duration": 1136,
    "start_time": "2021-11-13T22:10:29.403Z"
   },
   {
    "duration": 1011,
    "start_time": "2021-11-13T22:10:30.542Z"
   },
   {
    "duration": 421,
    "start_time": "2021-11-13T22:10:31.555Z"
   },
   {
    "duration": 5,
    "start_time": "2021-11-13T22:10:31.979Z"
   },
   {
    "duration": 13,
    "start_time": "2021-11-13T22:10:31.986Z"
   },
   {
    "duration": 3819,
    "start_time": "2021-11-13T22:10:37.110Z"
   },
   {
    "duration": 15,
    "start_time": "2021-11-13T22:10:43.933Z"
   },
   {
    "duration": 13,
    "start_time": "2021-11-13T22:10:48.058Z"
   },
   {
    "duration": 11,
    "start_time": "2021-11-13T22:11:00.416Z"
   },
   {
    "duration": 30,
    "start_time": "2021-11-13T22:11:04.420Z"
   },
   {
    "duration": 23,
    "start_time": "2021-11-13T22:11:15.320Z"
   },
   {
    "duration": 99,
    "start_time": "2021-11-13T22:16:48.252Z"
   },
   {
    "duration": 11,
    "start_time": "2021-11-13T22:16:55.210Z"
   },
   {
    "duration": 395,
    "start_time": "2021-11-13T22:19:16.818Z"
   },
   {
    "duration": 5,
    "start_time": "2021-11-13T22:19:35.111Z"
   },
   {
    "duration": 51,
    "start_time": "2021-11-13T22:19:35.119Z"
   },
   {
    "duration": 5,
    "start_time": "2021-11-13T22:19:35.173Z"
   },
   {
    "duration": 53,
    "start_time": "2021-11-13T22:19:35.181Z"
   },
   {
    "duration": 5,
    "start_time": "2021-11-13T22:19:35.236Z"
   },
   {
    "duration": 3960,
    "start_time": "2021-11-13T22:19:35.243Z"
   },
   {
    "duration": 11,
    "start_time": "2021-11-13T22:19:39.205Z"
   },
   {
    "duration": 23,
    "start_time": "2021-11-13T22:19:39.219Z"
   },
   {
    "duration": 45,
    "start_time": "2021-11-13T22:19:39.245Z"
   },
   {
    "duration": 63,
    "start_time": "2021-11-13T22:19:39.292Z"
   },
   {
    "duration": 3,
    "start_time": "2021-11-13T22:19:39.357Z"
   },
   {
    "duration": 16,
    "start_time": "2021-11-13T22:19:39.381Z"
   },
   {
    "duration": 6,
    "start_time": "2021-11-13T22:19:39.400Z"
   },
   {
    "duration": 15,
    "start_time": "2021-11-13T22:19:39.408Z"
   },
   {
    "duration": 32,
    "start_time": "2021-11-13T22:20:01.657Z"
   },
   {
    "duration": 9,
    "start_time": "2021-11-13T22:20:07.106Z"
   },
   {
    "duration": 319,
    "start_time": "2021-11-14T15:37:53.026Z"
   },
   {
    "duration": 1123,
    "start_time": "2021-11-14T15:37:58.016Z"
   },
   {
    "duration": 44,
    "start_time": "2021-11-14T15:37:59.141Z"
   },
   {
    "duration": 4,
    "start_time": "2021-11-14T15:37:59.187Z"
   },
   {
    "duration": 36,
    "start_time": "2021-11-14T15:37:59.193Z"
   },
   {
    "duration": 4,
    "start_time": "2021-11-14T15:37:59.230Z"
   },
   {
    "duration": 2057,
    "start_time": "2021-11-14T15:37:59.235Z"
   },
   {
    "duration": 8,
    "start_time": "2021-11-14T15:38:01.294Z"
   },
   {
    "duration": 18,
    "start_time": "2021-11-14T15:38:01.304Z"
   },
   {
    "duration": 12,
    "start_time": "2021-11-14T15:38:01.324Z"
   },
   {
    "duration": 63,
    "start_time": "2021-11-14T15:38:01.337Z"
   },
   {
    "duration": 2,
    "start_time": "2021-11-14T15:38:01.402Z"
   },
   {
    "duration": 13,
    "start_time": "2021-11-14T15:38:01.406Z"
   },
   {
    "duration": 6,
    "start_time": "2021-11-14T15:38:01.420Z"
   },
   {
    "duration": 9,
    "start_time": "2021-11-14T15:38:01.427Z"
   },
   {
    "duration": 29,
    "start_time": "2021-11-14T15:38:01.438Z"
   },
   {
    "duration": 3,
    "start_time": "2021-11-14T15:59:03.303Z"
   },
   {
    "duration": 54,
    "start_time": "2021-11-14T15:59:03.308Z"
   },
   {
    "duration": 4,
    "start_time": "2021-11-14T15:59:03.364Z"
   },
   {
    "duration": 41,
    "start_time": "2021-11-14T15:59:03.370Z"
   },
   {
    "duration": 4,
    "start_time": "2021-11-14T15:59:03.413Z"
   },
   {
    "duration": 2146,
    "start_time": "2021-11-14T15:59:03.418Z"
   },
   {
    "duration": 8,
    "start_time": "2021-11-14T15:59:05.566Z"
   },
   {
    "duration": 13,
    "start_time": "2021-11-14T15:59:05.577Z"
   },
   {
    "duration": 10,
    "start_time": "2021-11-14T15:59:05.592Z"
   },
   {
    "duration": 67,
    "start_time": "2021-11-14T15:59:05.604Z"
   },
   {
    "duration": 2,
    "start_time": "2021-11-14T15:59:05.673Z"
   },
   {
    "duration": 14,
    "start_time": "2021-11-14T15:59:05.677Z"
   },
   {
    "duration": 4,
    "start_time": "2021-11-14T15:59:05.693Z"
   },
   {
    "duration": 9,
    "start_time": "2021-11-14T15:59:05.699Z"
   },
   {
    "duration": 6,
    "start_time": "2021-11-14T15:59:05.710Z"
   },
   {
    "duration": 145,
    "start_time": "2021-11-14T15:59:05.718Z"
   },
   {
    "duration": 103,
    "start_time": "2021-11-14T15:59:05.866Z"
   },
   {
    "duration": 9,
    "start_time": "2021-11-14T15:59:53.101Z"
   },
   {
    "duration": 22,
    "start_time": "2021-11-14T16:00:09.843Z"
   },
   {
    "duration": 20,
    "start_time": "2021-11-14T16:00:13.710Z"
   },
   {
    "duration": 20,
    "start_time": "2021-11-14T16:00:18.194Z"
   },
   {
    "duration": 9,
    "start_time": "2021-11-14T16:00:21.345Z"
   },
   {
    "duration": 87,
    "start_time": "2021-11-14T16:01:01.772Z"
   },
   {
    "duration": 9,
    "start_time": "2021-11-14T16:01:36.282Z"
   },
   {
    "duration": 5,
    "start_time": "2021-11-14T16:03:09.449Z"
   },
   {
    "duration": 5,
    "start_time": "2021-11-14T16:03:32.523Z"
   },
   {
    "duration": 5,
    "start_time": "2021-11-14T16:04:00.807Z"
   },
   {
    "duration": 12,
    "start_time": "2021-11-14T16:33:17.490Z"
   },
   {
    "duration": 7,
    "start_time": "2021-11-14T16:34:08.227Z"
   },
   {
    "duration": 90,
    "start_time": "2021-11-14T16:42:06.912Z"
   },
   {
    "duration": 4,
    "start_time": "2021-11-14T16:42:14.817Z"
   },
   {
    "duration": 21,
    "start_time": "2021-11-14T16:49:34.692Z"
   },
   {
    "duration": 17,
    "start_time": "2021-11-14T16:49:41.794Z"
   },
   {
    "duration": 250,
    "start_time": "2021-11-14T16:56:19.162Z"
   },
   {
    "duration": 268,
    "start_time": "2021-11-14T16:56:56.858Z"
   },
   {
    "duration": 266,
    "start_time": "2021-11-14T16:57:48.902Z"
   },
   {
    "duration": 379,
    "start_time": "2021-11-14T17:09:20.807Z"
   },
   {
    "duration": 264,
    "start_time": "2021-11-14T17:10:40.759Z"
   },
   {
    "duration": 3,
    "start_time": "2021-11-14T17:13:03.307Z"
   },
   {
    "duration": 49,
    "start_time": "2021-11-14T17:13:03.312Z"
   },
   {
    "duration": 4,
    "start_time": "2021-11-14T17:13:03.363Z"
   },
   {
    "duration": 38,
    "start_time": "2021-11-14T17:13:03.369Z"
   },
   {
    "duration": 4,
    "start_time": "2021-11-14T17:13:03.409Z"
   },
   {
    "duration": 2964,
    "start_time": "2021-11-14T17:13:03.415Z"
   },
   {
    "duration": 9,
    "start_time": "2021-11-14T17:13:06.381Z"
   },
   {
    "duration": 16,
    "start_time": "2021-11-14T17:13:06.393Z"
   },
   {
    "duration": 13,
    "start_time": "2021-11-14T17:13:06.412Z"
   },
   {
    "duration": 70,
    "start_time": "2021-11-14T17:13:06.427Z"
   },
   {
    "duration": 3,
    "start_time": "2021-11-14T17:13:06.499Z"
   },
   {
    "duration": 23,
    "start_time": "2021-11-14T17:13:06.504Z"
   },
   {
    "duration": 7,
    "start_time": "2021-11-14T17:13:06.529Z"
   },
   {
    "duration": 25,
    "start_time": "2021-11-14T17:13:06.538Z"
   },
   {
    "duration": 6,
    "start_time": "2021-11-14T17:13:06.565Z"
   },
   {
    "duration": 190,
    "start_time": "2021-11-14T17:13:06.573Z"
   },
   {
    "duration": 330,
    "start_time": "2021-11-14T17:13:06.765Z"
   },
   {
    "duration": 8520,
    "start_time": "2021-11-14T17:13:16.513Z"
   },
   {
    "duration": 32522,
    "start_time": "2021-11-14T17:13:57.646Z"
   },
   {
    "duration": 8370,
    "start_time": "2021-11-14T17:15:17.293Z"
   },
   {
    "duration": 32884,
    "start_time": "2021-11-14T17:15:47.845Z"
   },
   {
    "duration": 4,
    "start_time": "2021-11-14T18:56:25.255Z"
   },
   {
    "duration": 38,
    "start_time": "2021-11-14T18:56:25.266Z"
   },
   {
    "duration": 4,
    "start_time": "2021-11-14T18:56:25.306Z"
   },
   {
    "duration": 38,
    "start_time": "2021-11-14T18:56:25.312Z"
   },
   {
    "duration": 11,
    "start_time": "2021-11-14T18:56:25.352Z"
   },
   {
    "duration": 2300,
    "start_time": "2021-11-14T18:56:25.365Z"
   },
   {
    "duration": 7,
    "start_time": "2021-11-14T18:56:27.667Z"
   },
   {
    "duration": 15,
    "start_time": "2021-11-14T18:56:27.675Z"
   },
   {
    "duration": 11,
    "start_time": "2021-11-14T18:56:27.692Z"
   },
   {
    "duration": 39,
    "start_time": "2021-11-14T18:56:27.705Z"
   },
   {
    "duration": 2,
    "start_time": "2021-11-14T18:56:27.764Z"
   },
   {
    "duration": 11,
    "start_time": "2021-11-14T18:56:27.768Z"
   },
   {
    "duration": 4,
    "start_time": "2021-11-14T18:56:27.781Z"
   },
   {
    "duration": 15,
    "start_time": "2021-11-14T18:56:27.786Z"
   },
   {
    "duration": 6,
    "start_time": "2021-11-14T18:56:27.802Z"
   },
   {
    "duration": 28,
    "start_time": "2021-11-14T18:57:14.034Z"
   },
   {
    "duration": 274,
    "start_time": "2021-11-14T18:58:52.253Z"
   },
   {
    "duration": 34567,
    "start_time": "2021-11-14T19:00:04.712Z"
   },
   {
    "duration": 24,
    "start_time": "2021-11-14T19:02:08.730Z"
   },
   {
    "duration": 23,
    "start_time": "2021-11-14T19:02:21.767Z"
   },
   {
    "duration": 300,
    "start_time": "2021-11-14T19:06:45.279Z"
   },
   {
    "duration": 21,
    "start_time": "2021-11-14T19:08:58.715Z"
   },
   {
    "duration": 55,
    "start_time": "2021-11-14T19:09:06.709Z"
   },
   {
    "duration": 296,
    "start_time": "2021-11-14T19:09:21.550Z"
   },
   {
    "duration": 278,
    "start_time": "2021-11-14T19:09:39.494Z"
   },
   {
    "duration": 95,
    "start_time": "2021-11-14T19:10:00.576Z"
   },
   {
    "duration": 35738,
    "start_time": "2021-11-14T19:10:07.497Z"
   },
   {
    "duration": 35327,
    "start_time": "2021-11-14T19:11:13.090Z"
   },
   {
    "duration": 297,
    "start_time": "2021-11-14T19:12:24.868Z"
   },
   {
    "duration": 326,
    "start_time": "2021-11-14T19:12:40.093Z"
   },
   {
    "duration": 314,
    "start_time": "2021-11-14T19:21:21.645Z"
   },
   {
    "duration": 54,
    "start_time": "2021-11-14T19:56:17.910Z"
   },
   {
    "duration": 330,
    "start_time": "2021-11-14T20:01:56.442Z"
   },
   {
    "duration": 33980,
    "start_time": "2021-11-14T20:05:51.658Z"
   },
   {
    "duration": 134594,
    "start_time": "2021-11-14T20:09:17.154Z"
   },
   {
    "duration": 34662,
    "start_time": "2021-11-14T20:12:21.674Z"
   },
   {
    "duration": 276,
    "start_time": "2021-11-14T20:23:32.757Z"
   },
   {
    "duration": 3,
    "start_time": "2021-11-14T20:23:38.313Z"
   },
   {
    "duration": 40,
    "start_time": "2021-11-14T20:23:38.320Z"
   },
   {
    "duration": 5,
    "start_time": "2021-11-14T20:23:38.362Z"
   },
   {
    "duration": 34,
    "start_time": "2021-11-14T20:23:38.370Z"
   },
   {
    "duration": 4,
    "start_time": "2021-11-14T20:23:38.407Z"
   },
   {
    "duration": 2126,
    "start_time": "2021-11-14T20:23:38.412Z"
   },
   {
    "duration": 8,
    "start_time": "2021-11-14T20:23:40.540Z"
   },
   {
    "duration": 22,
    "start_time": "2021-11-14T20:23:40.549Z"
   },
   {
    "duration": 12,
    "start_time": "2021-11-14T20:23:40.573Z"
   },
   {
    "duration": 43,
    "start_time": "2021-11-14T20:23:40.587Z"
   },
   {
    "duration": 2,
    "start_time": "2021-11-14T20:23:40.633Z"
   },
   {
    "duration": 12,
    "start_time": "2021-11-14T20:23:40.664Z"
   },
   {
    "duration": 7,
    "start_time": "2021-11-14T20:23:40.678Z"
   },
   {
    "duration": 12,
    "start_time": "2021-11-14T20:23:40.687Z"
   },
   {
    "duration": 7,
    "start_time": "2021-11-14T20:23:40.701Z"
   },
   {
    "duration": 159,
    "start_time": "2021-11-14T20:23:40.710Z"
   },
   {
    "duration": 416,
    "start_time": "2021-11-14T20:23:40.872Z"
   },
   {
    "duration": 35544,
    "start_time": "2021-11-14T20:23:41.290Z"
   },
   {
    "duration": 135,
    "start_time": "2021-11-14T20:24:16.835Z"
   },
   {
    "duration": 419,
    "start_time": "2021-11-14T20:24:16.973Z"
   },
   {
    "duration": 33783,
    "start_time": "2021-11-14T20:24:17.394Z"
   },
   {
    "duration": 323,
    "start_time": "2021-11-14T20:25:03.133Z"
   },
   {
    "duration": 377,
    "start_time": "2021-11-14T20:25:41.994Z"
   },
   {
    "duration": 364,
    "start_time": "2021-11-14T20:26:22.875Z"
   },
   {
    "duration": 299,
    "start_time": "2021-11-14T20:27:32.853Z"
   },
   {
    "duration": 35042,
    "start_time": "2021-11-14T20:28:27.611Z"
   },
   {
    "duration": 328,
    "start_time": "2021-11-14T20:29:02.655Z"
   },
   {
    "duration": 81,
    "start_time": "2021-11-14T20:29:02.985Z"
   },
   {
    "duration": 36448,
    "start_time": "2021-11-14T20:29:03.068Z"
   },
   {
    "duration": 320,
    "start_time": "2021-11-14T20:29:39.518Z"
   },
   {
    "duration": 30,
    "start_time": "2021-11-14T20:29:39.840Z"
   },
   {
    "duration": 246,
    "start_time": "2021-11-14T20:31:53.750Z"
   },
   {
    "duration": 244,
    "start_time": "2021-11-14T20:33:08.044Z"
   },
   {
    "duration": 278,
    "start_time": "2021-11-14T20:33:27.039Z"
   },
   {
    "duration": 325,
    "start_time": "2021-11-14T20:33:42.287Z"
   },
   {
    "duration": 366,
    "start_time": "2021-11-14T20:34:14.631Z"
   },
   {
    "duration": 349,
    "start_time": "2021-11-14T20:34:29.127Z"
   },
   {
    "duration": 348,
    "start_time": "2021-11-14T20:36:20.941Z"
   },
   {
    "duration": 350,
    "start_time": "2021-11-14T20:38:37.540Z"
   },
   {
    "duration": 325,
    "start_time": "2021-11-14T20:40:24.464Z"
   },
   {
    "duration": 350,
    "start_time": "2021-11-14T20:40:36.146Z"
   },
   {
    "duration": 282,
    "start_time": "2021-11-14T20:41:26.812Z"
   },
   {
    "duration": 149,
    "start_time": "2021-11-14T20:42:58.788Z"
   },
   {
    "duration": 143,
    "start_time": "2021-11-14T20:43:12.446Z"
   },
   {
    "duration": 147,
    "start_time": "2021-11-14T20:45:26.106Z"
   },
   {
    "duration": 143,
    "start_time": "2021-11-14T23:57:58.690Z"
   },
   {
    "duration": 149,
    "start_time": "2021-11-14T23:58:17.356Z"
   },
   {
    "duration": 183,
    "start_time": "2021-11-15T00:06:38.424Z"
   },
   {
    "duration": 204,
    "start_time": "2021-11-15T00:06:48.144Z"
   },
   {
    "duration": 196,
    "start_time": "2021-11-15T00:07:08.493Z"
   },
   {
    "duration": 196,
    "start_time": "2021-11-15T00:10:24.276Z"
   },
   {
    "duration": 185,
    "start_time": "2021-11-15T00:10:36.847Z"
   },
   {
    "duration": 3,
    "start_time": "2021-11-15T00:17:28.592Z"
   },
   {
    "duration": 472,
    "start_time": "2021-11-15T00:17:36.904Z"
   },
   {
    "duration": 1091,
    "start_time": "2021-11-15T00:22:08.224Z"
   },
   {
    "duration": 46,
    "start_time": "2021-11-15T00:22:09.317Z"
   },
   {
    "duration": 5,
    "start_time": "2021-11-15T00:22:09.365Z"
   },
   {
    "duration": 37,
    "start_time": "2021-11-15T00:22:09.372Z"
   },
   {
    "duration": 3,
    "start_time": "2021-11-15T00:22:09.411Z"
   },
   {
    "duration": 2056,
    "start_time": "2021-11-15T00:22:09.416Z"
   },
   {
    "duration": 7,
    "start_time": "2021-11-15T00:22:11.474Z"
   },
   {
    "duration": 15,
    "start_time": "2021-11-15T00:22:11.484Z"
   },
   {
    "duration": 16,
    "start_time": "2021-11-15T00:22:11.501Z"
   },
   {
    "duration": 54,
    "start_time": "2021-11-15T00:22:11.519Z"
   },
   {
    "duration": 3,
    "start_time": "2021-11-15T00:22:11.575Z"
   },
   {
    "duration": 14,
    "start_time": "2021-11-15T00:22:11.579Z"
   },
   {
    "duration": 6,
    "start_time": "2021-11-15T00:22:11.594Z"
   },
   {
    "duration": 12,
    "start_time": "2021-11-15T00:22:11.601Z"
   },
   {
    "duration": 13,
    "start_time": "2021-11-15T00:22:11.614Z"
   },
   {
    "duration": 140,
    "start_time": "2021-11-15T00:22:11.629Z"
   },
   {
    "duration": 398,
    "start_time": "2021-11-15T00:22:11.771Z"
   },
   {
    "duration": 33747,
    "start_time": "2021-11-15T00:22:12.170Z"
   },
   {
    "duration": 146,
    "start_time": "2021-11-15T00:22:45.919Z"
   },
   {
    "duration": 413,
    "start_time": "2021-11-15T00:22:46.068Z"
   },
   {
    "duration": 33050,
    "start_time": "2021-11-15T00:22:46.483Z"
   },
   {
    "duration": 350,
    "start_time": "2021-11-15T00:23:19.534Z"
   },
   {
    "duration": 157,
    "start_time": "2021-11-15T00:23:19.887Z"
   },
   {
    "duration": 209,
    "start_time": "2021-11-15T00:23:20.046Z"
   },
   {
    "duration": 532,
    "start_time": "2021-11-15T00:23:20.256Z"
   },
   {
    "duration": 513,
    "start_time": "2021-11-15T00:27:13.989Z"
   },
   {
    "duration": 4,
    "start_time": "2021-11-15T00:27:41.608Z"
   },
   {
    "duration": 1201,
    "start_time": "2021-11-15T00:27:50.012Z"
   },
   {
    "duration": 445,
    "start_time": "2021-11-15T00:28:19.205Z"
   },
   {
    "duration": 444,
    "start_time": "2021-11-15T00:29:06.726Z"
   },
   {
    "duration": 86,
    "start_time": "2021-11-15T00:30:57.081Z"
   },
   {
    "duration": 22,
    "start_time": "2021-11-15T00:43:51.788Z"
   },
   {
    "duration": 282,
    "start_time": "2021-11-15T00:45:49.316Z"
   },
   {
    "duration": 26,
    "start_time": "2021-11-15T00:46:37.593Z"
   },
   {
    "duration": 26,
    "start_time": "2021-11-15T00:47:01.251Z"
   },
   {
    "duration": 1109,
    "start_time": "2021-11-15T00:47:14.120Z"
   },
   {
    "duration": 47,
    "start_time": "2021-11-15T00:47:15.231Z"
   },
   {
    "duration": 4,
    "start_time": "2021-11-15T00:47:15.280Z"
   },
   {
    "duration": 36,
    "start_time": "2021-11-15T00:47:15.286Z"
   },
   {
    "duration": 3,
    "start_time": "2021-11-15T00:47:15.324Z"
   },
   {
    "duration": 2147,
    "start_time": "2021-11-15T00:47:15.329Z"
   },
   {
    "duration": 8,
    "start_time": "2021-11-15T00:47:17.477Z"
   },
   {
    "duration": 17,
    "start_time": "2021-11-15T00:47:17.487Z"
   },
   {
    "duration": 18,
    "start_time": "2021-11-15T00:47:17.507Z"
   },
   {
    "duration": 50,
    "start_time": "2021-11-15T00:47:17.527Z"
   },
   {
    "duration": 3,
    "start_time": "2021-11-15T00:47:17.578Z"
   },
   {
    "duration": 18,
    "start_time": "2021-11-15T00:47:17.582Z"
   },
   {
    "duration": 11,
    "start_time": "2021-11-15T00:47:17.602Z"
   },
   {
    "duration": 17,
    "start_time": "2021-11-15T00:47:17.615Z"
   },
   {
    "duration": 22,
    "start_time": "2021-11-15T00:47:17.634Z"
   },
   {
    "duration": 24,
    "start_time": "2021-11-15T00:47:17.658Z"
   },
   {
    "duration": 403,
    "start_time": "2021-11-15T00:47:17.766Z"
   },
   {
    "duration": 33677,
    "start_time": "2021-11-15T00:47:18.171Z"
   },
   {
    "duration": 25,
    "start_time": "2021-11-15T00:47:51.850Z"
   },
   {
    "duration": 411,
    "start_time": "2021-11-15T00:47:51.965Z"
   },
   {
    "duration": 32935,
    "start_time": "2021-11-15T00:47:52.378Z"
   },
   {
    "duration": 284,
    "start_time": "2021-11-15T00:48:25.315Z"
   },
   {
    "duration": 162,
    "start_time": "2021-11-15T00:48:25.602Z"
   },
   {
    "duration": 210,
    "start_time": "2021-11-15T00:48:25.766Z"
   },
   {
    "duration": 28,
    "start_time": "2021-11-15T00:48:25.978Z"
   },
   {
    "duration": 28,
    "start_time": "2021-11-15T00:50:34.623Z"
   },
   {
    "duration": 355,
    "start_time": "2021-11-15T00:52:49.723Z"
   },
   {
    "duration": 4,
    "start_time": "2021-11-15T00:53:19.415Z"
   },
   {
    "duration": 15,
    "start_time": "2021-11-15T00:53:27.122Z"
   },
   {
    "duration": 1100,
    "start_time": "2021-11-15T00:54:11.710Z"
   },
   {
    "duration": 46,
    "start_time": "2021-11-15T00:54:12.812Z"
   },
   {
    "duration": 5,
    "start_time": "2021-11-15T00:54:12.860Z"
   },
   {
    "duration": 36,
    "start_time": "2021-11-15T00:54:12.867Z"
   },
   {
    "duration": 3,
    "start_time": "2021-11-15T00:54:12.905Z"
   },
   {
    "duration": 2075,
    "start_time": "2021-11-15T00:54:12.910Z"
   },
   {
    "duration": 8,
    "start_time": "2021-11-15T00:54:14.986Z"
   },
   {
    "duration": 24,
    "start_time": "2021-11-15T00:54:14.997Z"
   },
   {
    "duration": 16,
    "start_time": "2021-11-15T00:54:15.024Z"
   },
   {
    "duration": 51,
    "start_time": "2021-11-15T00:54:15.042Z"
   },
   {
    "duration": 3,
    "start_time": "2021-11-15T00:54:15.095Z"
   },
   {
    "duration": 12,
    "start_time": "2021-11-15T00:54:15.100Z"
   },
   {
    "duration": 5,
    "start_time": "2021-11-15T00:54:15.114Z"
   },
   {
    "duration": 12,
    "start_time": "2021-11-15T00:54:15.121Z"
   },
   {
    "duration": 37,
    "start_time": "2021-11-15T00:54:15.135Z"
   },
   {
    "duration": 93,
    "start_time": "2021-11-15T00:54:15.175Z"
   },
   {
    "duration": 397,
    "start_time": "2021-11-15T00:54:15.271Z"
   },
   {
    "duration": 33800,
    "start_time": "2021-11-15T00:54:15.670Z"
   },
   {
    "duration": 93,
    "start_time": "2021-11-15T00:54:49.472Z"
   },
   {
    "duration": 418,
    "start_time": "2021-11-15T00:54:49.567Z"
   },
   {
    "duration": 33362,
    "start_time": "2021-11-15T00:54:49.987Z"
   },
   {
    "duration": 347,
    "start_time": "2021-11-15T00:55:23.351Z"
   },
   {
    "duration": 153,
    "start_time": "2021-11-15T00:55:23.701Z"
   },
   {
    "duration": 197,
    "start_time": "2021-11-15T00:55:23.855Z"
   },
   {
    "duration": 25,
    "start_time": "2021-11-15T00:55:24.054Z"
   },
   {
    "duration": 14,
    "start_time": "2021-11-15T00:55:24.081Z"
   },
   {
    "duration": 14,
    "start_time": "2021-11-15T00:58:06.238Z"
   },
   {
    "duration": 14,
    "start_time": "2021-11-15T00:58:59.036Z"
   },
   {
    "duration": 14,
    "start_time": "2021-11-15T01:00:09.672Z"
   },
   {
    "duration": 15,
    "start_time": "2021-11-15T01:00:34.830Z"
   },
   {
    "duration": 365,
    "start_time": "2021-11-15T01:00:50.382Z"
   },
   {
    "duration": 260,
    "start_time": "2021-11-15T01:01:22.365Z"
   },
   {
    "duration": 15,
    "start_time": "2021-11-15T01:02:00.836Z"
   },
   {
    "duration": 15,
    "start_time": "2021-11-15T01:02:07.334Z"
   },
   {
    "duration": 47,
    "start_time": "2021-11-15T01:06:50.113Z"
   },
   {
    "duration": 45,
    "start_time": "2021-11-15T01:07:29.590Z"
   },
   {
    "duration": 1169,
    "start_time": "2021-11-15T01:27:59.653Z"
   },
   {
    "duration": 47,
    "start_time": "2021-11-15T01:28:00.824Z"
   },
   {
    "duration": 4,
    "start_time": "2021-11-15T01:28:00.873Z"
   },
   {
    "duration": 50,
    "start_time": "2021-11-15T01:28:00.879Z"
   },
   {
    "duration": 3,
    "start_time": "2021-11-15T01:28:00.931Z"
   },
   {
    "duration": 2098,
    "start_time": "2021-11-15T01:28:00.936Z"
   },
   {
    "duration": 8,
    "start_time": "2021-11-15T01:28:03.036Z"
   },
   {
    "duration": 25,
    "start_time": "2021-11-15T01:28:03.046Z"
   },
   {
    "duration": 12,
    "start_time": "2021-11-15T01:28:03.073Z"
   },
   {
    "duration": 43,
    "start_time": "2021-11-15T01:28:03.087Z"
   },
   {
    "duration": 3,
    "start_time": "2021-11-15T01:28:03.132Z"
   },
   {
    "duration": 30,
    "start_time": "2021-11-15T01:28:03.136Z"
   },
   {
    "duration": 5,
    "start_time": "2021-11-15T01:28:03.168Z"
   },
   {
    "duration": 13,
    "start_time": "2021-11-15T01:28:03.174Z"
   },
   {
    "duration": 12,
    "start_time": "2021-11-15T01:28:03.189Z"
   },
   {
    "duration": 70,
    "start_time": "2021-11-15T01:28:03.202Z"
   },
   {
    "duration": 393,
    "start_time": "2021-11-15T01:28:03.365Z"
   },
   {
    "duration": 34446,
    "start_time": "2021-11-15T01:28:03.763Z"
   },
   {
    "duration": 60,
    "start_time": "2021-11-15T01:28:38.211Z"
   },
   {
    "duration": 451,
    "start_time": "2021-11-15T01:28:38.274Z"
   },
   {
    "duration": 33425,
    "start_time": "2021-11-15T01:28:38.727Z"
   },
   {
    "duration": 337,
    "start_time": "2021-11-15T01:29:12.154Z"
   },
   {
    "duration": 154,
    "start_time": "2021-11-15T01:29:12.494Z"
   },
   {
    "duration": 200,
    "start_time": "2021-11-15T01:29:12.649Z"
   },
   {
    "duration": 30,
    "start_time": "2021-11-15T01:29:12.850Z"
   },
   {
    "duration": 43,
    "start_time": "2021-11-15T01:29:12.882Z"
   },
   {
    "duration": 221,
    "start_time": "2021-11-15T08:15:08.654Z"
   },
   {
    "duration": 1039,
    "start_time": "2021-11-15T08:15:16.686Z"
   },
   {
    "duration": 43,
    "start_time": "2021-11-15T08:15:17.727Z"
   },
   {
    "duration": 4,
    "start_time": "2021-11-15T08:15:17.772Z"
   },
   {
    "duration": 37,
    "start_time": "2021-11-15T08:15:17.778Z"
   },
   {
    "duration": 3,
    "start_time": "2021-11-15T08:15:17.817Z"
   },
   {
    "duration": 2033,
    "start_time": "2021-11-15T08:15:17.822Z"
   },
   {
    "duration": 9,
    "start_time": "2021-11-15T08:15:19.857Z"
   },
   {
    "duration": 27,
    "start_time": "2021-11-15T08:15:19.869Z"
   },
   {
    "duration": 15,
    "start_time": "2021-11-15T08:15:19.898Z"
   },
   {
    "duration": 43,
    "start_time": "2021-11-15T08:15:19.915Z"
   },
   {
    "duration": 2,
    "start_time": "2021-11-15T08:15:19.960Z"
   },
   {
    "duration": 27,
    "start_time": "2021-11-15T08:15:19.964Z"
   },
   {
    "duration": 5,
    "start_time": "2021-11-15T08:15:19.993Z"
   },
   {
    "duration": 13,
    "start_time": "2021-11-15T08:15:19.999Z"
   },
   {
    "duration": 10,
    "start_time": "2021-11-15T08:15:20.014Z"
   },
   {
    "duration": 166,
    "start_time": "2021-11-15T08:15:20.026Z"
   },
   {
    "duration": 304,
    "start_time": "2021-11-15T08:15:20.194Z"
   },
   {
    "duration": 32763,
    "start_time": "2021-11-15T08:15:20.500Z"
   },
   {
    "duration": 32,
    "start_time": "2021-11-15T08:15:53.264Z"
   },
   {
    "duration": 479,
    "start_time": "2021-11-15T08:15:53.300Z"
   },
   {
    "duration": 31354,
    "start_time": "2021-11-15T08:15:53.781Z"
   },
   {
    "duration": 281,
    "start_time": "2021-11-15T08:16:25.137Z"
   },
   {
    "duration": 154,
    "start_time": "2021-11-15T08:16:25.421Z"
   },
   {
    "duration": 200,
    "start_time": "2021-11-15T08:16:25.577Z"
   },
   {
    "duration": 296,
    "start_time": "2021-11-15T08:16:25.779Z"
   },
   {
    "duration": 2020,
    "start_time": "2021-11-15T08:16:24.057Z"
   },
   {
    "duration": 70,
    "start_time": "2021-11-15T08:17:33.130Z"
   },
   {
    "duration": 172,
    "start_time": "2021-11-15T08:17:37.451Z"
   },
   {
    "duration": 179,
    "start_time": "2021-11-15T08:18:19.682Z"
   },
   {
    "duration": 1058,
    "start_time": "2021-11-15T08:20:42.274Z"
   },
   {
    "duration": 4,
    "start_time": "2021-11-15T08:20:51.684Z"
   },
   {
    "duration": 40,
    "start_time": "2021-11-15T08:20:51.690Z"
   },
   {
    "duration": 8,
    "start_time": "2021-11-15T08:21:05.848Z"
   },
   {
    "duration": 41,
    "start_time": "2021-11-15T08:29:01.163Z"
   },
   {
    "duration": 1180,
    "start_time": "2021-11-15T08:32:52.146Z"
   },
   {
    "duration": 40,
    "start_time": "2021-11-15T08:32:53.328Z"
   },
   {
    "duration": 9,
    "start_time": "2021-11-15T08:32:53.370Z"
   },
   {
    "duration": 4,
    "start_time": "2021-11-15T08:32:53.380Z"
   },
   {
    "duration": 37,
    "start_time": "2021-11-15T08:32:53.391Z"
   },
   {
    "duration": 3,
    "start_time": "2021-11-15T08:32:53.429Z"
   },
   {
    "duration": 2128,
    "start_time": "2021-11-15T08:32:53.434Z"
   },
   {
    "duration": 7,
    "start_time": "2021-11-15T08:32:55.565Z"
   },
   {
    "duration": 23,
    "start_time": "2021-11-15T08:32:55.574Z"
   },
   {
    "duration": 12,
    "start_time": "2021-11-15T08:32:55.598Z"
   },
   {
    "duration": 41,
    "start_time": "2021-11-15T08:32:55.611Z"
   },
   {
    "duration": 3,
    "start_time": "2021-11-15T08:32:55.653Z"
   },
   {
    "duration": 15,
    "start_time": "2021-11-15T08:32:55.657Z"
   },
   {
    "duration": 20,
    "start_time": "2021-11-15T08:32:55.673Z"
   },
   {
    "duration": 16,
    "start_time": "2021-11-15T08:32:55.695Z"
   },
   {
    "duration": 15,
    "start_time": "2021-11-15T08:32:55.713Z"
   },
   {
    "duration": 65,
    "start_time": "2021-11-15T08:32:55.730Z"
   },
   {
    "duration": 386,
    "start_time": "2021-11-15T08:32:55.796Z"
   },
   {
    "duration": 33251,
    "start_time": "2021-11-15T08:32:56.183Z"
   },
   {
    "duration": 59,
    "start_time": "2021-11-15T08:33:29.436Z"
   },
   {
    "duration": 402,
    "start_time": "2021-11-15T08:33:29.497Z"
   },
   {
    "duration": 32808,
    "start_time": "2021-11-15T08:33:29.900Z"
   },
   {
    "duration": 298,
    "start_time": "2021-11-15T08:34:02.711Z"
   },
   {
    "duration": 150,
    "start_time": "2021-11-15T08:34:03.011Z"
   },
   {
    "duration": 193,
    "start_time": "2021-11-15T08:34:03.162Z"
   },
   {
    "duration": 194,
    "start_time": "2021-11-15T08:34:03.357Z"
   },
   {
    "duration": 48,
    "start_time": "2021-11-15T08:34:03.553Z"
   }
  ],
  "kernelspec": {
   "display_name": "Python 3 (ipykernel)",
   "language": "python",
   "name": "python3"
  },
  "language_info": {
   "codemirror_mode": {
    "name": "ipython",
    "version": 3
   },
   "file_extension": ".py",
   "mimetype": "text/x-python",
   "name": "python",
   "nbconvert_exporter": "python",
   "pygments_lexer": "ipython3",
   "version": "3.9.7"
  },
  "toc": {
   "base_numbering": 1,
   "nav_menu": {},
   "number_sections": true,
   "sideBar": true,
   "skip_h1_title": true,
   "title_cell": "Содержание",
   "title_sidebar": "Contents",
   "toc_cell": true,
   "toc_position": {
    "height": "calc(100% - 180px)",
    "left": "10px",
    "top": "150px",
    "width": "270.391px"
   },
   "toc_section_display": true,
   "toc_window_display": true
  }
 },
 "nbformat": 4,
 "nbformat_minor": 2
}
